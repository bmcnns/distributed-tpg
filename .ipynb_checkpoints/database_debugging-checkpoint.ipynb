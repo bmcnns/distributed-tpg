{
 "cells": [
  {
   "cell_type": "code",
   "execution_count": 1,
   "id": "ecf50065-3e56-410b-b5ba-c13fdf23114d",
   "metadata": {},
   "outputs": [],
   "source": [
    "import duckdb\n",
    "\n",
    "ip = \"192.168.4.203\"\n",
    "duckdb.sql(\"INSTALL postgres;\")\n",
    "duckdb.sql(\"LOAD postgres;\")\n",
    "duckdb.sql(f\"ATTACH 'dbname=postgres user=postgres host={ip} password=template!PWD' AS db (TYPE POSTGRES);\")\n"
   ]
  },
  {
   "cell_type": "code",
   "execution_count": 2,
   "id": "5346cbfa-d39e-4d6f-bc4b-fe08b2492fa9",
   "metadata": {},
   "outputs": [
    {
     "data": {
      "text/html": [
       "<div>\n",
       "<style scoped>\n",
       "    .dataframe tbody tr th:only-of-type {\n",
       "        vertical-align: middle;\n",
       "    }\n",
       "\n",
       "    .dataframe tbody tr th {\n",
       "        vertical-align: top;\n",
       "    }\n",
       "\n",
       "    .dataframe thead th {\n",
       "        text-align: right;\n",
       "    }\n",
       "</style>\n",
       "<table border=\"1\" class=\"dataframe\">\n",
       "  <thead>\n",
       "    <tr style=\"text-align: right;\">\n",
       "      <th></th>\n",
       "      <th>id</th>\n",
       "      <th>team_id</th>\n",
       "      <th>action</th>\n",
       "      <th>pointer</th>\n",
       "    </tr>\n",
       "  </thead>\n",
       "  <tbody>\n",
       "  </tbody>\n",
       "</table>\n",
       "</div>"
      ],
      "text/plain": [
       "Empty DataFrame\n",
       "Columns: [id, team_id, action, pointer]\n",
       "Index: []"
      ]
     },
     "execution_count": 2,
     "metadata": {},
     "output_type": "execute_result"
    }
   ],
   "source": [
    "df = duckdb.query(\"\"\"\n",
    "SELECT * FROM db.public.programs\n",
    "\"\"\").df()\n",
    "\n",
    "df2 = duckdb.query(\"\"\"\n",
    "SELECT * FROM db.public.programs\n",
    "WHERE id = 'fbd9228a-a5a1-4c85-9509-889caad0ac26'\n",
    "AND team_id = '0e563c05-13e8-42d1-ae3b-4c2eaee36161'\n",
    "\"\"\").df()\n",
    "\n",
    "df2\n",
    "\n"
   ]
  },
  {
   "cell_type": "code",
   "execution_count": 3,
   "id": "ee53db3d-7b8d-4f22-8604-fad78e121b94",
   "metadata": {},
   "outputs": [
    {
     "name": "stdout",
     "output_type": "stream",
     "text": [
      "b725e57f-2988-42ac-96e6-b1d69d836df1\n"
     ]
    }
   ],
   "source": [
    "import uuid\n",
    "random_id = uuid.uuid4()\n",
    "print(random_id)\n",
    "\n",
    "duckdb.query(f\"\"\"\n",
    "UPDATE db.public.programs\n",
    "SET action = NULL,\n",
    "    pointer = '{random_id}'\n",
    "WHERE id = 'fbd9228a-a5a1-4c85-9509-889caad0ac26'\n",
    "AND team_id = '0e563c05-13e8-42d1-ae3b-4c2eaee36161'\n",
    "\"\"\")"
   ]
  },
  {
   "cell_type": "code",
   "execution_count": 4,
   "id": "eb40cf15-4cc1-40a8-b598-1b9f9c3e2b0b",
   "metadata": {},
   "outputs": [
    {
     "data": {
      "text/html": [
       "<div>\n",
       "<style scoped>\n",
       "    .dataframe tbody tr th:only-of-type {\n",
       "        vertical-align: middle;\n",
       "    }\n",
       "\n",
       "    .dataframe tbody tr th {\n",
       "        vertical-align: top;\n",
       "    }\n",
       "\n",
       "    .dataframe thead th {\n",
       "        text-align: right;\n",
       "    }\n",
       "</style>\n",
       "<table border=\"1\" class=\"dataframe\">\n",
       "  <thead>\n",
       "    <tr style=\"text-align: right;\">\n",
       "      <th></th>\n",
       "      <th>id</th>\n",
       "      <th>team_id</th>\n",
       "      <th>action</th>\n",
       "      <th>pointer</th>\n",
       "    </tr>\n",
       "  </thead>\n",
       "  <tbody>\n",
       "  </tbody>\n",
       "</table>\n",
       "</div>"
      ],
      "text/plain": [
       "Empty DataFrame\n",
       "Columns: [id, team_id, action, pointer]\n",
       "Index: []"
      ]
     },
     "execution_count": 4,
     "metadata": {},
     "output_type": "execute_result"
    }
   ],
   "source": [
    "df = duckdb.query(\"\"\"\n",
    "SELECT * FROM db.public.programs\n",
    "WHERE id = 'fbd9228a-a5a1-4c85-9509-889caad0ac26'\n",
    "AND team_id = '0e563c05-13e8-42d1-ae3b-4c2eaee36161'\n",
    "\"\"\").df()\n",
    "\n",
    "df"
   ]
  },
  {
   "cell_type": "code",
   "execution_count": 5,
   "id": "ec5694f9-25bd-4c3e-86dd-83622c1bba69",
   "metadata": {},
   "outputs": [
    {
     "data": {
      "text/html": [
       "<div>\n",
       "<style scoped>\n",
       "    .dataframe tbody tr th:only-of-type {\n",
       "        vertical-align: middle;\n",
       "    }\n",
       "\n",
       "    .dataframe tbody tr th {\n",
       "        vertical-align: top;\n",
       "    }\n",
       "\n",
       "    .dataframe thead th {\n",
       "        text-align: right;\n",
       "    }\n",
       "</style>\n",
       "<table border=\"1\" class=\"dataframe\">\n",
       "  <thead>\n",
       "    <tr style=\"text-align: right;\">\n",
       "      <th></th>\n",
       "      <th>id</th>\n",
       "      <th>lucky_breaks</th>\n",
       "    </tr>\n",
       "  </thead>\n",
       "  <tbody>\n",
       "    <tr>\n",
       "      <th>0</th>\n",
       "      <td>21fd14eb-6973-4a6f-99a0-59140d82f9f6</td>\n",
       "      <td>0</td>\n",
       "    </tr>\n",
       "    <tr>\n",
       "      <th>1</th>\n",
       "      <td>e8395611-ea93-4f1e-b454-25cacca5d01f</td>\n",
       "      <td>0</td>\n",
       "    </tr>\n",
       "    <tr>\n",
       "      <th>2</th>\n",
       "      <td>d552887e-4e15-4ebc-a6dd-e53f8d50c420</td>\n",
       "      <td>0</td>\n",
       "    </tr>\n",
       "    <tr>\n",
       "      <th>3</th>\n",
       "      <td>cc4bd0b1-b444-43ef-ae65-ee0ed7288a8c</td>\n",
       "      <td>0</td>\n",
       "    </tr>\n",
       "    <tr>\n",
       "      <th>4</th>\n",
       "      <td>77be236f-cdaa-4535-bf90-8d5d89a5d2e1</td>\n",
       "      <td>0</td>\n",
       "    </tr>\n",
       "    <tr>\n",
       "      <th>...</th>\n",
       "      <td>...</td>\n",
       "      <td>...</td>\n",
       "    </tr>\n",
       "    <tr>\n",
       "      <th>355</th>\n",
       "      <td>58ace98f-08b3-48ab-90bc-0fe27b018c18</td>\n",
       "      <td>0</td>\n",
       "    </tr>\n",
       "    <tr>\n",
       "      <th>356</th>\n",
       "      <td>810f1bf5-6a11-4027-95d0-6e5dfb7b705c</td>\n",
       "      <td>0</td>\n",
       "    </tr>\n",
       "    <tr>\n",
       "      <th>357</th>\n",
       "      <td>602a4a24-793c-4b43-8a9d-d18b2b4b4f8d</td>\n",
       "      <td>0</td>\n",
       "    </tr>\n",
       "    <tr>\n",
       "      <th>358</th>\n",
       "      <td>eecc66d0-d839-403d-8fca-05dc1cafcf9c</td>\n",
       "      <td>0</td>\n",
       "    </tr>\n",
       "    <tr>\n",
       "      <th>359</th>\n",
       "      <td>f2fd56fd-d92b-496f-bec5-6370b58eb9f1</td>\n",
       "      <td>0</td>\n",
       "    </tr>\n",
       "  </tbody>\n",
       "</table>\n",
       "<p>360 rows × 2 columns</p>\n",
       "</div>"
      ],
      "text/plain": [
       "                                       id  lucky_breaks\n",
       "0    21fd14eb-6973-4a6f-99a0-59140d82f9f6             0\n",
       "1    e8395611-ea93-4f1e-b454-25cacca5d01f             0\n",
       "2    d552887e-4e15-4ebc-a6dd-e53f8d50c420             0\n",
       "3    cc4bd0b1-b444-43ef-ae65-ee0ed7288a8c             0\n",
       "4    77be236f-cdaa-4535-bf90-8d5d89a5d2e1             0\n",
       "..                                    ...           ...\n",
       "355  58ace98f-08b3-48ab-90bc-0fe27b018c18             0\n",
       "356  810f1bf5-6a11-4027-95d0-6e5dfb7b705c             0\n",
       "357  602a4a24-793c-4b43-8a9d-d18b2b4b4f8d             0\n",
       "358  eecc66d0-d839-403d-8fca-05dc1cafcf9c             0\n",
       "359  f2fd56fd-d92b-496f-bec5-6370b58eb9f1             0\n",
       "\n",
       "[360 rows x 2 columns]"
      ]
     },
     "execution_count": 5,
     "metadata": {},
     "output_type": "execute_result"
    }
   ],
   "source": [
    "df = duckdb.query(\"\"\"\n",
    "SELECT * FROM db.public.teams\n",
    "\"\"\").df()\n",
    "\n",
    "df"
   ]
  },
  {
   "cell_type": "code",
   "execution_count": 6,
   "id": "d9a199e2-c6b1-45b4-83fb-ac56746bb5ea",
   "metadata": {},
   "outputs": [
    {
     "data": {
      "text/html": [
       "<div>\n",
       "<style scoped>\n",
       "    .dataframe tbody tr th:only-of-type {\n",
       "        vertical-align: middle;\n",
       "    }\n",
       "\n",
       "    .dataframe tbody tr th {\n",
       "        vertical-align: top;\n",
       "    }\n",
       "\n",
       "    .dataframe thead th {\n",
       "        text-align: right;\n",
       "    }\n",
       "</style>\n",
       "<table border=\"1\" class=\"dataframe\">\n",
       "  <thead>\n",
       "    <tr style=\"text-align: right;\">\n",
       "      <th></th>\n",
       "      <th>id</th>\n",
       "      <th>lucky_breaks</th>\n",
       "    </tr>\n",
       "  </thead>\n",
       "  <tbody>\n",
       "    <tr>\n",
       "      <th>0</th>\n",
       "      <td>21fd14eb-6973-4a6f-99a0-59140d82f9f6</td>\n",
       "      <td>0</td>\n",
       "    </tr>\n",
       "    <tr>\n",
       "      <th>1</th>\n",
       "      <td>e8395611-ea93-4f1e-b454-25cacca5d01f</td>\n",
       "      <td>0</td>\n",
       "    </tr>\n",
       "    <tr>\n",
       "      <th>2</th>\n",
       "      <td>d552887e-4e15-4ebc-a6dd-e53f8d50c420</td>\n",
       "      <td>0</td>\n",
       "    </tr>\n",
       "    <tr>\n",
       "      <th>3</th>\n",
       "      <td>cc4bd0b1-b444-43ef-ae65-ee0ed7288a8c</td>\n",
       "      <td>0</td>\n",
       "    </tr>\n",
       "    <tr>\n",
       "      <th>4</th>\n",
       "      <td>77be236f-cdaa-4535-bf90-8d5d89a5d2e1</td>\n",
       "      <td>0</td>\n",
       "    </tr>\n",
       "    <tr>\n",
       "      <th>...</th>\n",
       "      <td>...</td>\n",
       "      <td>...</td>\n",
       "    </tr>\n",
       "    <tr>\n",
       "      <th>355</th>\n",
       "      <td>58ace98f-08b3-48ab-90bc-0fe27b018c18</td>\n",
       "      <td>0</td>\n",
       "    </tr>\n",
       "    <tr>\n",
       "      <th>356</th>\n",
       "      <td>810f1bf5-6a11-4027-95d0-6e5dfb7b705c</td>\n",
       "      <td>0</td>\n",
       "    </tr>\n",
       "    <tr>\n",
       "      <th>357</th>\n",
       "      <td>602a4a24-793c-4b43-8a9d-d18b2b4b4f8d</td>\n",
       "      <td>0</td>\n",
       "    </tr>\n",
       "    <tr>\n",
       "      <th>358</th>\n",
       "      <td>eecc66d0-d839-403d-8fca-05dc1cafcf9c</td>\n",
       "      <td>0</td>\n",
       "    </tr>\n",
       "    <tr>\n",
       "      <th>359</th>\n",
       "      <td>f2fd56fd-d92b-496f-bec5-6370b58eb9f1</td>\n",
       "      <td>0</td>\n",
       "    </tr>\n",
       "  </tbody>\n",
       "</table>\n",
       "<p>360 rows × 2 columns</p>\n",
       "</div>"
      ],
      "text/plain": [
       "                                       id  lucky_breaks\n",
       "0    21fd14eb-6973-4a6f-99a0-59140d82f9f6             0\n",
       "1    e8395611-ea93-4f1e-b454-25cacca5d01f             0\n",
       "2    d552887e-4e15-4ebc-a6dd-e53f8d50c420             0\n",
       "3    cc4bd0b1-b444-43ef-ae65-ee0ed7288a8c             0\n",
       "4    77be236f-cdaa-4535-bf90-8d5d89a5d2e1             0\n",
       "..                                    ...           ...\n",
       "355  58ace98f-08b3-48ab-90bc-0fe27b018c18             0\n",
       "356  810f1bf5-6a11-4027-95d0-6e5dfb7b705c             0\n",
       "357  602a4a24-793c-4b43-8a9d-d18b2b4b4f8d             0\n",
       "358  eecc66d0-d839-403d-8fca-05dc1cafcf9c             0\n",
       "359  f2fd56fd-d92b-496f-bec5-6370b58eb9f1             0\n",
       "\n",
       "[360 rows x 2 columns]"
      ]
     },
     "execution_count": 6,
     "metadata": {},
     "output_type": "execute_result"
    }
   ],
   "source": [
    "df = duckdb.query(\"\"\"\n",
    "SELECT * FROM db.public.teams\n",
    "\"\"\").df()\n",
    "\n",
    "df"
   ]
  },
  {
   "cell_type": "code",
   "execution_count": 7,
   "id": "a2983fbb-0337-4438-8d1e-4429bbd05b7b",
   "metadata": {},
   "outputs": [
    {
     "name": "stdout",
     "output_type": "stream",
     "text": [
      "71a20afd-3e7e-460d-87c3-0b4fbdaecbc7\n"
     ]
    }
   ],
   "source": [
    "import uuid\n",
    "random_id = uuid.uuid4()\n",
    "print(random_id)\n",
    "\n",
    "duckdb.query(f\"\"\"\n",
    "UPDATE db.public.programs\n",
    "SET action = NULL,\n",
    "    pointer = '{random_id}'\n",
    "WHERE id = 'fbd9228a-a5a1-4c85-9509-889caad0ac26'\n",
    "AND team_id = '0e563c05-13e8-42d1-ae3b-4c2eaee36161'\n",
    "\"\"\")"
   ]
  },
  {
   "cell_type": "code",
   "execution_count": 8,
   "id": "b4c8eeb2-b12a-4a6b-a5be-eb48710bad2b",
   "metadata": {
    "scrolled": true
   },
   "outputs": [
    {
     "data": {
      "text/plain": [
       "┌──────────────────────────────────────┬──────────────────────────────────────┬─────────┬─────────┐\n",
       "│                  id                  │               team_id                │ action  │ pointer │\n",
       "│                 uuid                 │                 uuid                 │ varchar │  uuid   │\n",
       "├──────────────────────────────────────┼──────────────────────────────────────┼─────────┼─────────┤\n",
       "│ c8f0ac09-3115-4a21-af2d-204bde67b254 │ 21fd14eb-6973-4a6f-99a0-59140d82f9f6 │ RIGHT   │ NULL    │\n",
       "│ c05531ce-aec9-40d4-ad8a-4ba4f4166018 │ 21fd14eb-6973-4a6f-99a0-59140d82f9f6 │ MIDDLE  │ NULL    │\n",
       "│ 148fdd35-2de3-46ca-b51c-ce37fc42b032 │ e8395611-ea93-4f1e-b454-25cacca5d01f │ NOTHING │ NULL    │\n",
       "│ 3039c0d6-595d-4d82-b30c-af686d6ce93b │ e8395611-ea93-4f1e-b454-25cacca5d01f │ NOTHING │ NULL    │\n",
       "│ b5c18deb-75e4-47d3-9a9a-4d7bd4f1087a │ e8395611-ea93-4f1e-b454-25cacca5d01f │ MIDDLE  │ NULL    │\n",
       "│ 87495d73-ba5a-412c-a01c-9f39fe216c2d │ e8395611-ea93-4f1e-b454-25cacca5d01f │ NOTHING │ NULL    │\n",
       "│ 7ee6ba31-8cd4-4545-9cf1-632482f4615b │ e8395611-ea93-4f1e-b454-25cacca5d01f │ NOTHING │ NULL    │\n",
       "│ e683325f-13fc-4763-b29b-2a52901ef816 │ d552887e-4e15-4ebc-a6dd-e53f8d50c420 │ RIGHT   │ NULL    │\n",
       "│ fedbfdd2-2dbd-48bb-be1e-15c1a833d2d6 │ d552887e-4e15-4ebc-a6dd-e53f8d50c420 │ NOTHING │ NULL    │\n",
       "│ a2b214fc-eba5-40c7-b2bf-8dcb73d03690 │ d552887e-4e15-4ebc-a6dd-e53f8d50c420 │ LEFT    │ NULL    │\n",
       "│                  ·                   │                  ·                   │  ·      │  ·      │\n",
       "│                  ·                   │                  ·                   │  ·      │  ·      │\n",
       "│                  ·                   │                  ·                   │  ·      │  ·      │\n",
       "│ 694b76c8-b805-40ee-9d19-ee6b0fee1575 │ 810f1bf5-6a11-4027-95d0-6e5dfb7b705c │ NOTHING │ NULL    │\n",
       "│ 17c2b9ba-115c-42f5-b4db-aed47afb824c │ 602a4a24-793c-4b43-8a9d-d18b2b4b4f8d │ LEFT    │ NULL    │\n",
       "│ e5fedb71-7f29-4f14-bc2f-6bc86479c5cd │ 602a4a24-793c-4b43-8a9d-d18b2b4b4f8d │ RIGHT   │ NULL    │\n",
       "│ 7533db63-1da3-4b1d-9523-77103e987e4d │ 602a4a24-793c-4b43-8a9d-d18b2b4b4f8d │ MIDDLE  │ NULL    │\n",
       "│ 9c37accf-89c4-4dc2-8d7f-7e8a5dfe1c76 │ eecc66d0-d839-403d-8fca-05dc1cafcf9c │ LEFT    │ NULL    │\n",
       "│ 4ea991d1-8f71-412c-b1c6-fd3934518c08 │ eecc66d0-d839-403d-8fca-05dc1cafcf9c │ NOTHING │ NULL    │\n",
       "│ c3aa1214-2fee-49dc-a928-6a1963430122 │ f2fd56fd-d92b-496f-bec5-6370b58eb9f1 │ RIGHT   │ NULL    │\n",
       "│ 25878ce1-0910-4adb-b2ff-9947bf8cff9c │ f2fd56fd-d92b-496f-bec5-6370b58eb9f1 │ NOTHING │ NULL    │\n",
       "│ 87d17393-22af-4385-93b8-73a9fb7f7f71 │ f2fd56fd-d92b-496f-bec5-6370b58eb9f1 │ LEFT    │ NULL    │\n",
       "│ 054d09e1-50ce-4429-91b5-3bbb7a77bdb8 │ f2fd56fd-d92b-496f-bec5-6370b58eb9f1 │ RIGHT   │ NULL    │\n",
       "├──────────────────────────────────────┴──────────────────────────────────────┴─────────┴─────────┤\n",
       "│ 1239 rows (20 shown)                                                                  4 columns │\n",
       "└─────────────────────────────────────────────────────────────────────────────────────────────────┘"
      ]
     },
     "execution_count": 8,
     "metadata": {},
     "output_type": "execute_result"
    }
   ],
   "source": [
    "duckdb.query(\"\"\"SELECT * FROM db.public.programs\"\"\")"
   ]
  },
  {
   "cell_type": "code",
   "execution_count": 9,
   "id": "b43dcb8a-f03e-4196-b744-15abb11678ee",
   "metadata": {
    "scrolled": true
   },
   "outputs": [
    {
     "data": {
      "text/plain": [
       "┌────────────┬─────────────────────────────┬─────────────────────┬──────────────────────────────────────┬──────────────┐\n",
       "│ generation │           team_id           │  cumulative_reward  │                  id                  │ lucky_breaks │\n",
       "│   int32    │            uuid             │       double        │                 uuid                 │    int32     │\n",
       "├────────────┼─────────────────────────────┼─────────────────────┼──────────────────────────────────────┼──────────────┤\n",
       "│          1 │ 95129240-5689-494e-94b3-c…  │  -4625.200556669719 │ 95129240-5689-494e-94b3-cf738bfdeebb │            0 │\n",
       "│          1 │ 985ef7a2-5ede-497b-a0b3-0…  │  -3322.121654674767 │ 985ef7a2-5ede-497b-a0b3-08fc3388edc8 │            0 │\n",
       "│          1 │ 8d2d9050-cc56-49dc-b6a1-9…  │ -1864.9333046699076 │ 8d2d9050-cc56-49dc-b6a1-913ceea8462d │            0 │\n",
       "│          1 │ b347e55a-612d-44b2-a0ec-e…  │  -1342.406314916559 │ b347e55a-612d-44b2-a0ec-ee952225bfa1 │            0 │\n",
       "│          1 │ 80c2db44-2a28-4955-9f48-a…  │ -1246.6893791695024 │ 80c2db44-2a28-4955-9f48-a310490821ff │            0 │\n",
       "│          1 │ c978a996-424c-4a53-a739-c…  │ -1210.6392985228129 │ c978a996-424c-4a53-a739-cdbea3d297b1 │            0 │\n",
       "│          1 │ 27373c77-1395-4ef4-8449-0…  │ -1166.1220917441597 │ 27373c77-1395-4ef4-8449-0cef25878b50 │            0 │\n",
       "│          1 │ 2a5c58f5-533a-4926-91a0-7…  │ -1093.5827454484283 │ 2a5c58f5-533a-4926-91a0-7bede4eb64e8 │            0 │\n",
       "│          1 │ 1cbb0bae-5769-47bf-86e1-9…  │ -1034.4962937396758 │ 1cbb0bae-5769-47bf-86e1-902e237a32fc │            0 │\n",
       "│          1 │ b269ca35-bc8a-43ea-bfc7-f…  │  -972.5063628631013 │ b269ca35-bc8a-43ea-bfc7-f8032274a5a1 │            0 │\n",
       "│          · │              ·              │           ·         │                  ·                   │            · │\n",
       "│          · │              ·              │           ·         │                  ·                   │            · │\n",
       "│          · │              ·              │           ·         │                  ·                   │            · │\n",
       "│          1 │ a5e986c6-e991-4b6e-b4e2-c…  │  -94.77429166895381 │ a5e986c6-e991-4b6e-b4e2-cee2573682f1 │            0 │\n",
       "│          1 │ 6504ddcd-ddb1-4964-b7c3-6…  │  -92.59498646380555 │ 6504ddcd-ddb1-4964-b7c3-6b7666709c8e │            0 │\n",
       "│          1 │ 7e1509fe-8a18-4122-b7f0-1…  │   -92.4855502138243 │ 7e1509fe-8a18-4122-b7f0-19ad47e58996 │            0 │\n",
       "│          1 │ fb622e05-712b-4605-a104-4…  │  -90.73944765198677 │ fb622e05-712b-4605-a104-4ed92bf336f1 │            0 │\n",
       "│          1 │ b13fcb7d-0c2a-48a1-bf3b-6…  │  -87.15814228585398 │ b13fcb7d-0c2a-48a1-bf3b-638e9fdd693c │            0 │\n",
       "│          1 │ 6aa90b69-4d5a-4f71-9ad1-b…  │   -83.6266266581387 │ 6aa90b69-4d5a-4f71-9ad1-b061c57b0db7 │            0 │\n",
       "│          1 │ bd18325c-0423-40a3-b394-1…  │  -45.19202509917545 │ bd18325c-0423-40a3-b394-15e4737380c4 │            0 │\n",
       "│          1 │ 2e5ada1f-cb6a-48fd-b2f8-1…  │   -4.13205273636342 │ 2e5ada1f-cb6a-48fd-b2f8-1ae555ff4ea0 │            0 │\n",
       "│          1 │ d3266126-6b44-4385-8a9c-b…  │  -3.181030048026969 │ d3266126-6b44-4385-8a9c-b829dc8dac3a │            0 │\n",
       "│          1 │ 834c21a9-73ca-4dd4-92d7-4…  │  11.343102185451485 │ 834c21a9-73ca-4dd4-92d7-4bd2865a36e3 │            0 │\n",
       "├────────────┴─────────────────────────────┴─────────────────────┴──────────────────────────────────────┴──────────────┤\n",
       "│ 240 rows (20 shown)                                                                                        5 columns │\n",
       "└──────────────────────────────────────────────────────────────────────────────────────────────────────────────────────┘"
      ]
     },
     "execution_count": 9,
     "metadata": {},
     "output_type": "execute_result"
    }
   ],
   "source": [
    "duckdb.query(\"\"\"\n",
    "WITH team_cumulative_rewards_by_generation AS\n",
    "(\n",
    "    SELECT generation, team_id, SUM(reward) AS cumulative_reward FROM db.public.training\n",
    "    GROUP BY generation, team_id\n",
    "    ORDER BY generation, cumulative_reward DESC\n",
    ")\n",
    "\n",
    "SELECT * FROM team_cumulative_rewards_by_generation\n",
    "JOIN db.public.teams ON team_cumulative_rewards_by_generation.team_id = teams.id\n",
    "ORDER BY generation, cumulative_reward\n",
    "\"\"\")\n"
   ]
  },
  {
   "cell_type": "code",
   "execution_count": 10,
   "id": "1e78af7f-ea15-47b8-b12c-a1e3e7a36a44",
   "metadata": {},
   "outputs": [
    {
     "data": {
      "text/plain": [
       "┌──────────────────────────────────────┬──────────────┐\n",
       "│                  id                  │ lucky_breaks │\n",
       "│                 uuid                 │    int32     │\n",
       "├──────────────────────────────────────┼──────────────┤\n",
       "│ 21fd14eb-6973-4a6f-99a0-59140d82f9f6 │            0 │\n",
       "│ e8395611-ea93-4f1e-b454-25cacca5d01f │            0 │\n",
       "│ d552887e-4e15-4ebc-a6dd-e53f8d50c420 │            0 │\n",
       "│ cc4bd0b1-b444-43ef-ae65-ee0ed7288a8c │            0 │\n",
       "│ 77be236f-cdaa-4535-bf90-8d5d89a5d2e1 │            0 │\n",
       "│ 7ae3c53b-3345-46b3-890e-8f9ad283e9df │            0 │\n",
       "│ 3ece7173-34cc-417d-a297-40007393a05a │            0 │\n",
       "│ 2f3b7666-a2f5-4008-80d8-c8fb121d7f14 │            0 │\n",
       "│ 80fd634f-6d4c-4690-9515-c4a388fcd0d0 │            0 │\n",
       "│ 0d54c6a0-c899-4a1e-a998-04a98e70a6e5 │            0 │\n",
       "│                  ·                   │            · │\n",
       "│                  ·                   │            · │\n",
       "│                  ·                   │            · │\n",
       "│ d4816442-ccf1-440e-bd15-6120f679d857 │            0 │\n",
       "│ 6cb14a71-62a7-48f6-b82b-b0664122fb57 │            0 │\n",
       "│ 5271d839-5bbb-41cf-a5f4-c65afb4a1998 │            0 │\n",
       "│ d979d712-f64e-4d1d-9b10-a0354dc937bc │            0 │\n",
       "│ 2d3257be-912c-47f4-b73e-a991a5867f9a │            0 │\n",
       "│ 58ace98f-08b3-48ab-90bc-0fe27b018c18 │            0 │\n",
       "│ 810f1bf5-6a11-4027-95d0-6e5dfb7b705c │            0 │\n",
       "│ 602a4a24-793c-4b43-8a9d-d18b2b4b4f8d │            0 │\n",
       "│ eecc66d0-d839-403d-8fca-05dc1cafcf9c │            0 │\n",
       "│ f2fd56fd-d92b-496f-bec5-6370b58eb9f1 │            0 │\n",
       "├──────────────────────────────────────┴──────────────┤\n",
       "│ 360 rows (20 shown)                       2 columns │\n",
       "└─────────────────────────────────────────────────────┘"
      ]
     },
     "execution_count": 10,
     "metadata": {},
     "output_type": "execute_result"
    }
   ],
   "source": [
    "duckdb.query(\"\"\"SELECT * FROM db.public.teams ORDER BY lucky_breaks DESC\"\"\")"
   ]
  },
  {
   "cell_type": "code",
   "execution_count": 52,
   "id": "1f5932c1-32ca-4193-bda7-b2214e3ebc49",
   "metadata": {},
   "outputs": [
    {
     "data": {
      "text/plain": [
       "┌────────┬────────────────────────────────────────────────────────────────────────────────────────┐\n",
       "│   id   │                                      observation                                       │\n",
       "│ int32  │                                        double[]                                        │\n",
       "├────────┼────────────────────────────────────────────────────────────────────────────────────────┤\n",
       "│ 139510 │ [1.0279729, 1.5809171, 3.3974652, -1.5756023, -1.7382362, -0.19032344, 0.0, 0.0]       │\n",
       "│ 139509 │ [0.9939827, 1.6162255, 3.2946415, -1.5359038, -1.7287201, -0.19336578, 0.0, 0.0]       │\n",
       "│ 139508 │ [0.9610214, 1.6506381, 3.2160199, -1.4940253, -1.7190518, -0.20399728, 0.0, 0.0]       │\n",
       "│ 139507 │ [0.92884636, 1.6841004, 3.1404707, -1.4618117, -1.7088519, -0.20190506, 0.0, 0.0]      │\n",
       "│ 139506 │ [0.89742815, 1.7168391, 3.09783, -1.4268191, -1.6987567, -0.20864609, 0.0, 0.0]        │\n",
       "│ 139505 │ [0.86643696, 1.7487851, 3.03955, -1.3988622, -1.6883243, -0.20388035, 0.0, 0.0]        │\n",
       "│ 139504 │ [0.83603, 1.7801056, 2.9418023, -1.3635863, -1.6781303, -0.20617831, 0.0, 0.0]         │\n",
       "│ 139503 │ [0.80660135, 1.8106306, 2.8654172, -1.3391197, -1.6678214, -0.19580881, 0.0, 0.0]      │\n",
       "│ 139502 │ [0.77793807, 1.8406126, 2.807118, -1.2999041, -1.658031, -0.20907843, 0.0, 0.0]        │\n",
       "│ 139501 │ [0.7498581, 1.8697021, 2.7042613, -1.2605965, -1.647577, -0.2197696, 0.0, 0.0]         │\n",
       "│    ·   │                                       ·                                                │\n",
       "│    ·   │                                       ·                                                │\n",
       "│    ·   │                                       ·                                                │\n",
       "│ 139470 │ [0.25957498, 2.4367902, 0.7542533, -0.58352244, -1.3122374, -0.28270864, 0.0, 0.0]     │\n",
       "│ 139469 │ [-0.9595244, 1.3950876, -1.672231, 0.033710558, 0.38956, -0.021244498, 0.0, 0.0]       │\n",
       "│ 139468 │ [0.25207013, 2.4497125, 0.75427747, -0.5568512, -1.2981019, -0.28271255, 0.0, 0.0]     │\n",
       "│ 139467 │ [-0.9427921, 1.3943353, -1.62972, -0.0023029663, 0.39062223, -0.017834384, 0.0, 0.0]   │\n",
       "│ 139466 │ [0.244567, 2.4620352, 0.7543014, -0.5301796, -1.2839663, -0.28271645, 0.0, 0.0]        │\n",
       "│ 139465 │ [-0.92648655, 1.3943923, -1.6091293, -0.015628211, 0.39151394, -0.021576675, 0.0, 0.0] │\n",
       "│ 139464 │ [0.2370656, 2.4737587, 0.7543254, -0.50350785, -1.2698305, -0.2827204, 0.0, 0.0]       │\n",
       "│ 139463 │ [-0.9103852, 1.3947501, -1.6091295, 0.0110385455, 0.3925928, -0.02157787, 0.0, 0.0]    │\n",
       "│ 139462 │ [0.22956581, 2.4848826, 0.75434923, -0.4768359, -1.2556944, -0.28272426, 0.0, 0.0]     │\n",
       "│ 139461 │ [-0.8942838, 1.3945079, -1.5612113, -0.012599809, 0.3936717, -0.006716151, 0.0, 0.0]   │\n",
       "├────────┴────────────────────────────────────────────────────────────────────────────────────────┤\n",
       "│ 50 rows (20 shown)                                                                    2 columns │\n",
       "└─────────────────────────────────────────────────────────────────────────────────────────────────┘"
      ]
     },
     "execution_count": 52,
     "metadata": {},
     "output_type": "execute_result"
    }
   ],
   "source": [
    "duckdb.query(\"\"\"\n",
    "SELECT * FROM db.public.observations\n",
    "ORDER BY id DESC\n",
    "LIMIT 50\n",
    "\"\"\")"
   ]
  },
  {
   "cell_type": "code",
   "execution_count": 100,
   "id": "3ab289c8-0a6d-4a1a-9f09-f3dec2722a0b",
   "metadata": {},
   "outputs": [
    {
     "name": "stdout",
     "output_type": "stream",
     "text": [
      "Profile: [0 0 0 0 0 0 0 0 0 0 0 0 0 0 0 0 0 0 0 0 0 0 0 0 0 0 0 0 0 0 0 0 0 0 0 0 0\n",
      " 0 0 0 0 0 0 0 0 0 0 0 0 0]\n",
      "[array([0, 0, 0, 0, 0, 0, 0, 0, 0, 0, 0, 0, 0, 0, 0, 0, 0, 0, 0, 0, 0, 0,\n",
      "       0, 0, 0, 0, 0, 0, 0, 0, 0, 0, 0, 0, 0, 0, 0, 0, 0, 0, 0, 0, 0, 0,\n",
      "       0, 0, 0, 0, 0, 0], dtype=int32)]\n"
     ]
    },
    {
     "ename": "NameError",
     "evalue": "name 'np' is not defined",
     "output_type": "error",
     "traceback": [
      "\u001b[0;31m---------------------------------------------------------------------------\u001b[0m",
      "\u001b[0;31mNameError\u001b[0m                                 Traceback (most recent call last)",
      "Cell \u001b[0;32mIn[100], line 16\u001b[0m\n\u001b[1;32m     12\u001b[0m     result\u001b[38;5;241m.\u001b[39mappend(profile)\n\u001b[1;32m     14\u001b[0m \u001b[38;5;28mprint\u001b[39m(result)\n\u001b[0;32m---> 16\u001b[0m \u001b[38;5;28;01mif\u001b[39;00m np\u001b[38;5;241m.\u001b[39marray(sample_profile) \u001b[38;5;129;01min\u001b[39;00m result:\n\u001b[1;32m     17\u001b[0m     \u001b[38;5;28mprint\u001b[39m (\u001b[38;5;124m\"\u001b[39m\u001b[38;5;124mAlready in diversity profiles... Mutating again\u001b[39m\u001b[38;5;124m\"\u001b[39m)\n",
      "\u001b[0;31mNameError\u001b[0m: name 'np' is not defined"
     ]
    }
   ],
   "source": [
    "import pandas as p\n",
    "import numpy as np\n",
    "pd.set_option('display.max_colwidth', None)\n",
    "\n",
    "sample_profile = [ 0 if i % 2 == 0 else 0 for i in range(50) ] \n",
    "\n",
    "result = []\n",
    "profiles = duckdb.query(\"\"\"\n",
    "SELECT * FROM db.public.diversity_cache\n",
    "\"\"\").df()['profile']\n",
    "for profile in profiles:\n",
    "    print(f\"Profile: {profile}\")\n",
    "    result.append(profile)\n",
    "\n",
    "print(result)\n",
    "\n",
    "if np.array(sample_profile) in result:\n",
    "    print (\"Already in diversity profiles... Mutating again\")"
   ]
  },
  {
   "cell_type": "code",
   "execution_count": null,
   "id": "e85618ff-9788-4317-b475-b6296bd994cd",
   "metadata": {},
   "outputs": [],
   "source": []
  }
 ],
 "metadata": {
  "kernelspec": {
   "display_name": "Python 3 (ipykernel)",
   "language": "python",
   "name": "python3"
  },
  "language_info": {
   "codemirror_mode": {
    "name": "ipython",
    "version": 3
   },
   "file_extension": ".py",
   "mimetype": "text/x-python",
   "name": "python",
   "nbconvert_exporter": "python",
   "pygments_lexer": "ipython3",
   "version": "3.12.4"
  }
 },
 "nbformat": 4,
 "nbformat_minor": 5
}
