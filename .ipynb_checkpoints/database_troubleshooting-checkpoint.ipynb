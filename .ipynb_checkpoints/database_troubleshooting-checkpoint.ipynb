{
 "cells": [
  {
   "cell_type": "code",
   "execution_count": 1,
   "id": "8b983b2f-f126-4fb5-bc00-f907cee2e4ce",
   "metadata": {},
   "outputs": [],
   "source": [
    "from db.database import Database\n",
    "from parameters import Parameters\n",
    "\n",
    "Database.connect(\n",
    "    user=\"postgres\",\n",
    "    password=\"template!PWD\",\n",
    "    host=Parameters.DATABASE_IP,\n",
    "    port=5432,\n",
    "    database=\"postgres\",\n",
    ")"
   ]
  },
  {
   "cell_type": "code",
   "execution_count": 2,
   "id": "b32880c0-96b9-459f-ae3c-9f1b0283bbcf",
   "metadata": {},
   "outputs": [],
   "source": [
    "import duckdb"
   ]
  },
  {
   "cell_type": "code",
   "execution_count": 3,
   "id": "276fec0e-dbbe-433c-aa6b-d86a247a3fc9",
   "metadata": {},
   "outputs": [],
   "source": [
    "#Database.clear()"
   ]
  },
  {
   "cell_type": "code",
   "execution_count": 4,
   "id": "3e1b9d0a-cdd0-421f-8637-cceafdb9dec6",
   "metadata": {},
   "outputs": [
    {
     "ename": "CatalogException",
     "evalue": "Catalog Error: Table with name training does not exist!\nDid you mean \"db.information_schema.triggers\"?",
     "output_type": "error",
     "traceback": [
      "\u001b[0;31m---------------------------------------------------------------------------\u001b[0m",
      "\u001b[0;31mCatalogException\u001b[0m                          Traceback (most recent call last)",
      "Cell \u001b[0;32mIn[4], line 1\u001b[0m\n\u001b[0;32m----> 1\u001b[0m duckdb\u001b[38;5;241m.\u001b[39mquery(\u001b[38;5;124m\"\"\"\u001b[39m\n\u001b[1;32m      2\u001b[0m \u001b[38;5;124mSELECT * FROM db.public.training\u001b[39m\n\u001b[1;32m      3\u001b[0m \u001b[38;5;124m\"\"\"\u001b[39m)\n",
      "File \u001b[0;32m~/anaconda3/envs/pytpg2/lib/python3.11/site-packages/duckdb/__init__.py:465\u001b[0m, in \u001b[0;36mquery\u001b[0;34m(query, **kwargs)\u001b[0m\n\u001b[1;32m    463\u001b[0m \u001b[38;5;28;01melse\u001b[39;00m:\n\u001b[1;32m    464\u001b[0m     conn \u001b[38;5;241m=\u001b[39m duckdb\u001b[38;5;241m.\u001b[39mconnect(\u001b[38;5;124m\"\u001b[39m\u001b[38;5;124m:default:\u001b[39m\u001b[38;5;124m\"\u001b[39m)\n\u001b[0;32m--> 465\u001b[0m \u001b[38;5;28;01mreturn\u001b[39;00m conn\u001b[38;5;241m.\u001b[39mquery(query, \u001b[38;5;241m*\u001b[39m\u001b[38;5;241m*\u001b[39mkwargs)\n",
      "\u001b[0;31mCatalogException\u001b[0m: Catalog Error: Table with name training does not exist!\nDid you mean \"db.information_schema.triggers\"?"
     ]
    }
   ],
   "source": [
    "duckdb.query(\"\"\"\n",
    "SELECT * FROM db.public.training\n",
    "\"\"\")"
   ]
  },
  {
   "cell_type": "code",
   "execution_count": null,
   "id": "d9f109ea-5acb-497f-a238-ae05f2008b43",
   "metadata": {},
   "outputs": [],
   "source": [
    "duckdb.query(\"\"\"\n",
    "SELECT * FROM db.public.training\n",
    "\"\"\")"
   ]
  },
  {
   "cell_type": "code",
   "execution_count": null,
   "id": "d91316f6-d63f-44df-8219-c62945263081",
   "metadata": {},
   "outputs": [],
   "source": [
    "duckdb.query(\"\"\"\n",
    "SELECT * FROM db.public.teams\n",
    "\"\"\")"
   ]
  },
  {
   "cell_type": "code",
   "execution_count": null,
   "id": "03cf23b3-afab-474e-bc63-1da6cb01422f",
   "metadata": {},
   "outputs": [],
   "source": [
    "duckdb.query(\"\"\"\n",
    "SELECT * FROM db.public.programs\n",
    "\"\"\")"
   ]
  },
  {
   "cell_type": "code",
   "execution_count": null,
   "id": "d42e4ecc-03d5-4284-8dca-39a1928d830e",
   "metadata": {},
   "outputs": [],
   "source": [
    "duckdb.query(\"\"\"\n",
    "SELECT * FROM db.public.cpu_utilization\n",
    "\"\"\")"
   ]
  },
  {
   "cell_type": "code",
   "execution_count": null,
   "id": "c42c0c6c-19c2-46e0-aa15-e6b6a0c0774a",
   "metadata": {},
   "outputs": [],
   "source": [
    "duckdb.query(\"\"\"\n",
    "SELECT * FROM db.public.time_monitor\n",
    "\"\"\")"
   ]
  },
  {
   "cell_type": "code",
   "execution_count": null,
   "id": "035ae2d2-924e-4b97-abc7-2cda880e9496",
   "metadata": {},
   "outputs": [],
   "source": [
    "duckdb.query(\"\"\"\n",
    "SELECT * FROM db.public.diversity_cache\n",
    "\"\"\")"
   ]
  },
  {
   "cell_type": "code",
   "execution_count": null,
   "id": "ce1020df-d4d5-4c2f-abd9-85b6392510bd",
   "metadata": {},
   "outputs": [],
   "source": []
  }
 ],
 "metadata": {
  "kernelspec": {
   "display_name": "distributed-tpg",
   "language": "python",
   "name": "distributed-tpg"
  },
  "language_info": {
   "codemirror_mode": {
    "name": "ipython",
    "version": 3
   },
   "file_extension": ".py",
   "mimetype": "text/x-python",
   "name": "python",
   "nbconvert_exporter": "python",
   "pygments_lexer": "ipython3",
   "version": "3.11.9"
  }
 },
 "nbformat": 4,
 "nbformat_minor": 5
}
