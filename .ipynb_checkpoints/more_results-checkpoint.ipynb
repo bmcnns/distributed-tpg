{
 "cells": [
  {
   "cell_type": "code",
   "execution_count": 1,
   "id": "2c0cc27f-5893-4fc3-9891-ab9fa6103768",
   "metadata": {},
   "outputs": [],
   "source": [
    "import duckdb\n",
    "import pandas as pd\n",
    "import matplotlib.pyplot as plt"
   ]
  },
  {
   "cell_type": "code",
   "execution_count": 2,
   "id": "3246381e-e0e2-453a-918a-85ece45a47df",
   "metadata": {},
   "outputs": [],
   "source": [
    "ip = \"52.233.29.106\"\n",
    "duckdb.sql(\"INSTALL postgres;\")\n",
    "duckdb.sql(\"LOAD postgres;\")\n",
    "duckdb.sql(f\"ATTACH 'dbname=postgres user=postgres host={ip} password=template!PWD' AS db (TYPE POSTGRES);\")\n"
   ]
  },
  {
   "cell_type": "code",
   "execution_count": 3,
   "id": "3bd37c3e-ff54-4db1-a4b8-cc3288deb4fe",
   "metadata": {},
   "outputs": [],
   "source": [
    "#from db.database import Database\n",
    "#Database.clear()"
   ]
  },
  {
   "cell_type": "code",
   "execution_count": 4,
   "id": "d11b252f-e452-4070-916d-ed52b2fc2d8d",
   "metadata": {},
   "outputs": [
    {
     "ename": "CatalogException",
     "evalue": "Catalog Error: Table with name compute_configs does not exist!\nDid you mean \"db.pg_catalog.pg_config\"?",
     "output_type": "error",
     "traceback": [
      "\u001b[0;31m---------------------------------------------------------------------------\u001b[0m",
      "\u001b[0;31mCatalogException\u001b[0m                          Traceback (most recent call last)",
      "Cell \u001b[0;32mIn[4], line 1\u001b[0m\n\u001b[0;32m----> 1\u001b[0m duckdb\u001b[38;5;241m.\u001b[39mquery(\u001b[38;5;124m\"\"\"\u001b[39m\n\u001b[1;32m      2\u001b[0m \u001b[38;5;124mSELECT * FROM db.public.compute_configs\u001b[39m\n\u001b[1;32m      3\u001b[0m \u001b[38;5;124m\"\"\"\u001b[39m)\n",
      "File \u001b[0;32m~/anaconda3/lib/python3.12/site-packages/duckdb/__init__.py:465\u001b[0m, in \u001b[0;36mquery\u001b[0;34m(query, **kwargs)\u001b[0m\n\u001b[1;32m    463\u001b[0m \u001b[38;5;28;01melse\u001b[39;00m:\n\u001b[1;32m    464\u001b[0m     conn \u001b[38;5;241m=\u001b[39m duckdb\u001b[38;5;241m.\u001b[39mconnect(\u001b[38;5;124m\"\u001b[39m\u001b[38;5;124m:default:\u001b[39m\u001b[38;5;124m\"\u001b[39m)\n\u001b[0;32m--> 465\u001b[0m \u001b[38;5;28;01mreturn\u001b[39;00m conn\u001b[38;5;241m.\u001b[39mquery(query, \u001b[38;5;241m*\u001b[39m\u001b[38;5;241m*\u001b[39mkwargs)\n",
      "\u001b[0;31mCatalogException\u001b[0m: Catalog Error: Table with name compute_configs does not exist!\nDid you mean \"db.pg_catalog.pg_config\"?"
     ]
    }
   ],
   "source": [
    "duckdb.query(\"\"\"\n",
    "SELECT * FROM db.public.compute_configs\n",
    "\"\"\")"
   ]
  },
  {
   "cell_type": "code",
   "execution_count": null,
   "id": "3c07f41e-1fa2-4938-8e11-5ec857489908",
   "metadata": {},
   "outputs": [],
   "source": [
    "df_2_workers = duckdb.query(\"\"\"\n",
    "SELECT time, COUNT(*) OVER (ORDER BY time ROWS BETWEEN UNBOUNDED PRECEDING AND CURRENT ROW) as num_steps\n",
    "FROM db.public.training\n",
    "WHERE run_id = '008da3c6-d0aa-410e-a895-e3535285b6c2'\n",
    "ORDER BY time\n",
    "\"\"\").df()\n",
    "\n",
    "df_1_worker = duckdb.query(\"\"\"\n",
    "SELECT time, COUNT(*) OVER (ORDER BY time ROWS BETWEEN UNBOUNDED PRECEDING AND CURRENT ROW) as num_steps\n",
    "FROM db.public.training\n",
    "WHERE run_id = 'f15dd0eb-eb89-4bf9-9995-582b4d39c3de'\n",
    "ORDER BY time\n",
    "\"\"\").df()\n",
    "\n",
    "for df in [df_2_workers, df_1_worker]:\n",
    "    df['elapsed_time'] = df['time'] - df['time'].min()\n",
    "\n",
    "\n",
    "plt.plot(df_2_workers['elapsed_time'], df_2_workers['num_steps'], label='Alice and Bob (6 parallel environments each)')\n",
    "plt.plot(df_1_worker['elapsed_time'], df_1_worker['num_steps'], label='Alice (6 parallel environments)')\n",
    "\n",
    "plt.ylabel('Steps')\n",
    "plt.xlabel('Time Elapsed (s)')\n",
    "plt.title(\"Throughput for CartPole-v1\")\n",
    "plt.legend()"
   ]
  },
  {
   "cell_type": "code",
   "execution_count": null,
   "id": "79fe379f-84a3-4167-b4fa-3bb22a312013",
   "metadata": {},
   "outputs": [],
   "source": [
    "duckdb.query(\"\"\"\n",
    "SELECT * FROM db.public.cpu_utilization\n",
    "WHERE run_id = 'ea9c34f6-005f-4a7d-9607-ef9baae31a3f'\n",
    "AND worker = 'alice'\n",
    "\"\"\")"
   ]
  },
  {
   "cell_type": "code",
   "execution_count": null,
   "id": "e004e66a-e326-4e3f-9e61-8582d8aea824",
   "metadata": {},
   "outputs": [],
   "source": [
    "import pandas as pd\n",
    "import matplotlib.pyplot as plt\n",
    "import duckdb\n",
    "from scipy.ndimage import gaussian_filter1d\n",
    "\n",
    "# Define the workers you want to plot\n",
    "workers = ['alice', 'bob']\n",
    "\n",
    "# Define smoothing function\n",
    "def smooth_data(data, window_size):\n",
    "    return data.rolling(window=window_size, min_periods=1).mean()\n",
    "\n",
    "# Plotting for each worker\n",
    "for worker in workers:\n",
    "    # Query and prepare the data\n",
    "    df = duckdb.query(f\"\"\"\n",
    "    SELECT * FROM db.public.cpu_utilization\n",
    "    WHERE worker = '{worker}'\n",
    "    AND run_id = 'ea9c34f6-005f-4a7d-9607-ef9baae31a3f'\n",
    "    \"\"\").df()\n",
    "\n",
    "    # Calculate time elapsed\n",
    "    df['time_elapsed'] = df['time'] - df['time'].min()\n",
    "\n",
    "    # Pivot the DataFrame for plotting\n",
    "    pivot_df = df.pivot_table(index='time_elapsed', columns='core', values='utilization', aggfunc='mean')\n",
    "\n",
    "    # Smooth the data\n",
    "    window_size = 5  # Adjust window size as needed\n",
    "    smoothed_df = pivot_df.apply(lambda x: smooth_data(pd.Series(x), window_size))\n",
    "\n",
    "    # Create a new figure for each worker\n",
    "    plt.figure(figsize=(10, 5))\n",
    "\n",
    "    # Plotting\n",
    "    plt.stackplot(smoothed_df.index, smoothed_df.T, labels=smoothed_df.columns, alpha=0.7)\n",
    "\n",
    "    \n",
    "    # Set title based on worker type\n",
    "    if worker == \"alice\":\n",
    "        plt.title(f'CPU Utilization vs Time (Alice)')\n",
    "    elif worker == \"bob\":\n",
    "        plt.title(f'CPU Utilization vs Time (Bob)')\n",
    "\n",
    "    plt.xlabel('Time Elapsed (s)')\n",
    "    plt.ylabel('Core Utilization (%)')\n",
    "    plt.ylim(0, 1200)\n",
    "    plt.legend(title='Core')\n",
    "\n",
    "    plt.show()\n",
    "    # Save the figure\n",
    "    plt.savefig(f\"./figures/cpu_utilization_{worker}.png\")\n",
    "    \n",
    "    # Close the figure\n",
    "    plt.close()\n"
   ]
  },
  {
   "cell_type": "code",
   "execution_count": null,
   "id": "2748beb4-89a5-4d4b-9650-e7233378c37b",
   "metadata": {},
   "outputs": [],
   "source": []
  }
 ],
 "metadata": {
  "kernelspec": {
   "display_name": "Python 3 (ipykernel)",
   "language": "python",
   "name": "python3"
  },
  "language_info": {
   "codemirror_mode": {
    "name": "ipython",
    "version": 3
   },
   "file_extension": ".py",
   "mimetype": "text/x-python",
   "name": "python",
   "nbconvert_exporter": "python",
   "pygments_lexer": "ipython3",
   "version": "3.12.4"
  }
 },
 "nbformat": 4,
 "nbformat_minor": 5
}
