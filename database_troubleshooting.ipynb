{
 "cells": [
  {
   "cell_type": "code",
   "execution_count": 2,
   "id": "8b983b2f-f126-4fb5-bc00-f907cee2e4ce",
   "metadata": {},
   "outputs": [],
   "source": [
    "from db.database import Database\n",
    "from parameters import Parameters\n",
    "\n",
    "Database.connect(\n",
    "    user=\"postgres\",\n",
    "    password=\"template!PWD\",\n",
    "    host=Parameters.DATABASE_IP,\n",
    "    port=5432,\n",
    "    database=\"postgres\",\n",
    ")\n"
   ]
  },
  {
   "cell_type": "code",
   "execution_count": 3,
   "id": "44ff651d-9241-4d92-83f1-8105140bca20",
   "metadata": {},
   "outputs": [],
   "source": [
    "import duckdb"
   ]
  },
  {
   "cell_type": "code",
   "execution_count": 27,
   "id": "731a9c65-c162-454d-bf4f-8da3fbf3e2eb",
   "metadata": {},
   "outputs": [
    {
     "data": {
      "text/plain": [
       "┌──────────────────────────────────────┬──────────────────────────────────────┐\n",
       "│                run_id                │                config                │\n",
       "│                 uuid                 │               varchar                │\n",
       "├──────────────────────────────────────┼──────────────────────────────────────┤\n",
       "│ b6c627e7-3285-4a12-9677-e6dbdedaa3a6 │ [(\"desktop\", 180), (\"macbook\", 180)] │\n",
       "│ fec85843-5076-4ea6-bc15-ad08a60f61f2 │ [(\"desktop\", 180), (\"macbook\", 180)] │\n",
       "│ bf2f1ab9-0131-4079-999e-751d37295795 │ [(\"desktop\", 180), (\"steph\", 180)]   │\n",
       "│ 3b2643bc-657e-4fa1-94ec-5b0fe82f34b9 │ [(\"desktop\", 180), (\"steph\", 180)]   │\n",
       "└──────────────────────────────────────┴──────────────────────────────────────┘"
      ]
     },
     "execution_count": 27,
     "metadata": {},
     "output_type": "execute_result"
    }
   ],
   "source": [
    "duckdb.query(\"\"\"\n",
    "SELECT * FROM db.public.compute_configs\n",
    "\"\"\")"
   ]
  },
  {
   "cell_type": "code",
   "execution_count": 24,
   "id": "3e1b9d0a-cdd0-421f-8637-cceafdb9dec6",
   "metadata": {},
   "outputs": [
    {
     "data": {
      "text/plain": [
       "┌──────────────────────┬────────────┬──────────────────────┬─────────────┬───┬───────────┬────────────────────┬────────┐\n",
       "│        run_id        │ generation │       team_id        │ is_finished │ … │ time_step │        time        │ action │\n",
       "│         uuid         │   int32    │         uuid         │   boolean   │   │   int32   │       double       │ int32  │\n",
       "├──────────────────────┼────────────┼──────────────────────┼─────────────┼───┼───────────┼────────────────────┼────────┤\n",
       "│ b6c627e7-3285-4a12…  │          1 │ 13a371b8-bf47-4ebf…  │ false       │ … │         1 │ 1723259936.3347328 │      0 │\n",
       "│ b6c627e7-3285-4a12…  │          1 │ 13a371b8-bf47-4ebf…  │ false       │ … │         2 │ 1723259936.3349197 │      0 │\n",
       "│ b6c627e7-3285-4a12…  │          1 │ 13a371b8-bf47-4ebf…  │ false       │ … │         3 │ 1723259936.3350942 │      0 │\n",
       "│ b6c627e7-3285-4a12…  │          1 │ 13a371b8-bf47-4ebf…  │ false       │ … │         4 │ 1723259936.3352654 │      0 │\n",
       "│ b6c627e7-3285-4a12…  │          1 │ 13a371b8-bf47-4ebf…  │ false       │ … │         5 │  1723259936.335444 │      0 │\n",
       "│ b6c627e7-3285-4a12…  │          1 │ 13a371b8-bf47-4ebf…  │ false       │ … │         6 │ 1723259936.3356164 │      0 │\n",
       "│ b6c627e7-3285-4a12…  │          1 │ 13a371b8-bf47-4ebf…  │ false       │ … │         7 │  1723259936.335787 │      0 │\n",
       "│ b6c627e7-3285-4a12…  │          1 │ 13a371b8-bf47-4ebf…  │ false       │ … │         8 │  1723259936.335976 │      1 │\n",
       "│ b6c627e7-3285-4a12…  │          1 │ 13a371b8-bf47-4ebf…  │ true        │ … │         9 │ 1723259936.3361497 │      0 │\n",
       "│ b6c627e7-3285-4a12…  │          1 │ 5edcac45-a6b9-4093…  │ false       │ … │         1 │ 1723259936.3389432 │      1 │\n",
       "│          ·           │          · │          ·           │  ·          │ · │         · │           ·        │      · │\n",
       "│          ·           │          · │          ·           │  ·          │ · │         · │           ·        │      · │\n",
       "│          ·           │          · │          ·           │  ·          │ · │         · │           ·        │      · │\n",
       "│ b6c627e7-3285-4a12…  │          1 │ 386044c6-9439-4d23…  │ true        │ … │         9 │   1723259937.77891 │      0 │\n",
       "│ b6c627e7-3285-4a12…  │          1 │ bf7443b4-f1fd-437e…  │ false       │ … │         1 │  1723259937.780363 │      0 │\n",
       "│ b6c627e7-3285-4a12…  │          1 │ bf7443b4-f1fd-437e…  │ false       │ … │         2 │  1723259937.780506 │      0 │\n",
       "│ b6c627e7-3285-4a12…  │          1 │ bf7443b4-f1fd-437e…  │ false       │ … │         3 │ 1723259937.7806273 │      0 │\n",
       "│ b6c627e7-3285-4a12…  │          1 │ bf7443b4-f1fd-437e…  │ false       │ … │         4 │ 1723259937.7807465 │      0 │\n",
       "│ b6c627e7-3285-4a12…  │          1 │ bf7443b4-f1fd-437e…  │ false       │ … │         5 │  1723259937.780868 │      0 │\n",
       "│ b6c627e7-3285-4a12…  │          1 │ bf7443b4-f1fd-437e…  │ false       │ … │         6 │ 1723259937.7809856 │      0 │\n",
       "│ b6c627e7-3285-4a12…  │          1 │ bf7443b4-f1fd-437e…  │ false       │ … │         7 │  1723259937.781103 │      0 │\n",
       "│ b6c627e7-3285-4a12…  │          1 │ bf7443b4-f1fd-437e…  │ false       │ … │         8 │ 1723259937.7812307 │      0 │\n",
       "│ b6c627e7-3285-4a12…  │          1 │ bf7443b4-f1fd-437e…  │ true        │ … │         9 │  1723259937.781351 │      0 │\n",
       "├──────────────────────┴────────────┴──────────────────────┴─────────────┴───┴───────────┴────────────────────┴────────┤\n",
       "│ 4010 rows (20 shown)                                                                             8 columns (7 shown) │\n",
       "└──────────────────────────────────────────────────────────────────────────────────────────────────────────────────────┘"
      ]
     },
     "execution_count": 24,
     "metadata": {},
     "output_type": "execute_result"
    }
   ],
   "source": [
    "duckdb.query(\"\"\"\n",
    "SELECT * FROM db.public.training\n",
    "\"\"\")"
   ]
  },
  {
   "cell_type": "code",
   "execution_count": 6,
   "id": "d91316f6-d63f-44df-8219-c62945263081",
   "metadata": {},
   "outputs": [
    {
     "data": {
      "text/plain": [
       "┌─────────┬──────────────┐\n",
       "│ team_id │ num_programs │\n",
       "│  uuid   │    int64     │\n",
       "├─────────┴──────────────┤\n",
       "│         0 rows         │\n",
       "└────────────────────────┘"
      ]
     },
     "execution_count": 6,
     "metadata": {},
     "output_type": "execute_result"
    }
   ],
   "source": [
    "duckdb.query(\"\"\"\n",
    "WITH team_program_mappings AS (\n",
    "SELECT teams.id AS team_id, programs.id AS program_id\n",
    "FROM db.public.programs\n",
    "JOIN db.public.teams ON programs.team_id = teams.id\n",
    ")\n",
    "\n",
    "SELECT team_id, COUNT(DISTINCT(program_id)) AS num_programs FROM team_program_mappings\n",
    "GROUP BY team_id\n",
    "\"\"\")"
   ]
  },
  {
   "cell_type": "code",
   "execution_count": 7,
   "id": "03cf23b3-afab-474e-bc63-1da6cb01422f",
   "metadata": {},
   "outputs": [
    {
     "data": {
      "text/plain": [
       "┌────────┬──────┬─────────┬─────────┬─────────┐\n",
       "│ run_id │  id  │ team_id │ action  │ pointer │\n",
       "│  uuid  │ uuid │  uuid   │ varchar │  uuid   │\n",
       "├────────┴──────┴─────────┴─────────┴─────────┤\n",
       "│                   0 rows                    │\n",
       "└─────────────────────────────────────────────┘"
      ]
     },
     "execution_count": 7,
     "metadata": {},
     "output_type": "execute_result"
    }
   ],
   "source": [
    "duckdb.query(\"\"\"\n",
    "SELECT * FROM db.public.programs\n",
    "\"\"\")"
   ]
  },
  {
   "cell_type": "code",
   "execution_count": 8,
   "id": "d42e4ecc-03d5-4284-8dca-39a1928d830e",
   "metadata": {
    "scrolled": true
   },
   "outputs": [
    {
     "data": {
      "text/plain": [
       "┌────────┬────────┬─────────┬───────┬─────────────┐\n",
       "│ run_id │  time  │ worker  │ core  │ utilization │\n",
       "│  uuid  │ double │ varchar │ int32 │   double    │\n",
       "├────────┴────────┴─────────┴───────┴─────────────┤\n",
       "│                     0 rows                      │\n",
       "└─────────────────────────────────────────────────┘"
      ]
     },
     "execution_count": 8,
     "metadata": {},
     "output_type": "execute_result"
    }
   ],
   "source": [
    "duckdb.query(\"\"\"\n",
    "SELECT * FROM db.public.cpu_utilization\n",
    "\"\"\")"
   ]
  },
  {
   "cell_type": "code",
   "execution_count": 9,
   "id": "c42c0c6c-19c2-46e0-aa15-e6b6a0c0774a",
   "metadata": {},
   "outputs": [
    {
     "data": {
      "text/plain": [
       "┌────────┬────────────┬────────┐\n",
       "│ run_id │ generation │  time  │\n",
       "│  uuid  │   int32    │ double │\n",
       "├────────┴────────────┴────────┤\n",
       "│            0 rows            │\n",
       "└──────────────────────────────┘"
      ]
     },
     "execution_count": 9,
     "metadata": {},
     "output_type": "execute_result"
    }
   ],
   "source": [
    "duckdb.query(\"\"\"\n",
    "SELECT * FROM db.public.time_monitor\n",
    "\"\"\")"
   ]
  },
  {
   "cell_type": "code",
   "execution_count": 10,
   "id": "035ae2d2-924e-4b97-abc7-2cda880e9496",
   "metadata": {},
   "outputs": [
    {
     "data": {
      "text/plain": [
       "┌────────┬────────┬─────────┬─────────┐\n",
       "│ run_id │  time  │ team_id │ profile │\n",
       "│  uuid  │ double │  uuid   │ int32[] │\n",
       "├────────┴────────┴─────────┴─────────┤\n",
       "│               0 rows                │\n",
       "└─────────────────────────────────────┘"
      ]
     },
     "execution_count": 10,
     "metadata": {},
     "output_type": "execute_result"
    }
   ],
   "source": [
    "duckdb.query(\"\"\"\n",
    "SELECT * FROM db.public.diversity_cache\n",
    "\"\"\")"
   ]
  },
  {
   "cell_type": "code",
   "execution_count": null,
   "id": "ce1020df-d4d5-4c2f-abd9-85b6392510bd",
   "metadata": {},
   "outputs": [],
   "source": []
  }
 ],
 "metadata": {
  "kernelspec": {
   "display_name": "distributed-tpg",
   "language": "python",
   "name": "distributed-tpg"
  },
  "language_info": {
   "codemirror_mode": {
    "name": "ipython",
    "version": 3
   },
   "file_extension": ".py",
   "mimetype": "text/x-python",
   "name": "python",
   "nbconvert_exporter": "python",
   "pygments_lexer": "ipython3",
   "version": "3.11.9"
  }
 },
 "nbformat": 4,
 "nbformat_minor": 5
}
