{
 "cells": [
  {
   "cell_type": "code",
   "execution_count": 2,
   "id": "8b983b2f-f126-4fb5-bc00-f907cee2e4ce",
   "metadata": {},
   "outputs": [],
   "source": [
    "from db.database import Database\n",
    "from parameters import Parameters\n",
    "\n",
    "Database.connect(\n",
    "    user=\"postgres\",\n",
    "    password=\"template!PWD\",\n",
    "    host=Parameters.DATABASE_IP,\n",
    "    port=5432,\n",
    "    database=\"postgres\",\n",
    ")\n"
   ]
  },
  {
   "cell_type": "code",
   "execution_count": 3,
   "id": "44ff651d-9241-4d92-83f1-8105140bca20",
   "metadata": {},
   "outputs": [],
   "source": [
    "import duckdb"
   ]
  },
  {
   "cell_type": "code",
   "execution_count": 4,
   "id": "731a9c65-c162-454d-bf4f-8da3fbf3e2eb",
   "metadata": {},
   "outputs": [
    {
     "data": {
      "text/plain": [
       "┌────────┬─────────┐\n",
       "│ run_id │ config  │\n",
       "│  uuid  │ varchar │\n",
       "├────────┴─────────┤\n",
       "│      0 rows      │\n",
       "└──────────────────┘"
      ]
     },
     "execution_count": 4,
     "metadata": {},
     "output_type": "execute_result"
    }
   ],
   "source": [
    "duckdb.query(\"\"\"\n",
    "SELECT * FROM db.public.compute_configs\n",
    "\"\"\")"
   ]
  },
  {
   "cell_type": "code",
   "execution_count": 5,
   "id": "3e1b9d0a-cdd0-421f-8637-cceafdb9dec6",
   "metadata": {},
   "outputs": [
    {
     "data": {
      "text/plain": [
       "┌────────┬────────────┬─────────┬─────────────┬────────┬───────────┬────────┬────────┐\n",
       "│ run_id │ generation │ team_id │ is_finished │ reward │ time_step │  time  │ action │\n",
       "│  uuid  │   int32    │  uuid   │   boolean   │ double │   int32   │ double │ int32  │\n",
       "├────────┴────────────┴─────────┴─────────────┴────────┴───────────┴────────┴────────┤\n",
       "│                                       0 rows                                       │\n",
       "└────────────────────────────────────────────────────────────────────────────────────┘"
      ]
     },
     "execution_count": 5,
     "metadata": {},
     "output_type": "execute_result"
    }
   ],
   "source": [
    "duckdb.query(\"\"\"\n",
    "SELECT * FROM db.public.training\n",
    "\"\"\")"
   ]
  },
  {
   "cell_type": "code",
   "execution_count": 6,
   "id": "d91316f6-d63f-44df-8219-c62945263081",
   "metadata": {},
   "outputs": [
    {
     "data": {
      "text/plain": [
       "┌─────────┬──────────────┐\n",
       "│ team_id │ num_programs │\n",
       "│  uuid   │    int64     │\n",
       "├─────────┴──────────────┤\n",
       "│         0 rows         │\n",
       "└────────────────────────┘"
      ]
     },
     "execution_count": 6,
     "metadata": {},
     "output_type": "execute_result"
    }
   ],
   "source": [
    "duckdb.query(\"\"\"\n",
    "WITH team_program_mappings AS (\n",
    "SELECT teams.id AS team_id, programs.id AS program_id\n",
    "FROM db.public.programs\n",
    "JOIN db.public.teams ON programs.team_id = teams.id\n",
    ")\n",
    "\n",
    "SELECT team_id, COUNT(DISTINCT(program_id)) AS num_programs FROM team_program_mappings\n",
    "GROUP BY team_id\n",
    "\"\"\")"
   ]
  },
  {
   "cell_type": "code",
   "execution_count": 7,
   "id": "03cf23b3-afab-474e-bc63-1da6cb01422f",
   "metadata": {},
   "outputs": [
    {
     "data": {
      "text/plain": [
       "┌────────┬──────┬─────────┬─────────┬─────────┐\n",
       "│ run_id │  id  │ team_id │ action  │ pointer │\n",
       "│  uuid  │ uuid │  uuid   │ varchar │  uuid   │\n",
       "├────────┴──────┴─────────┴─────────┴─────────┤\n",
       "│                   0 rows                    │\n",
       "└─────────────────────────────────────────────┘"
      ]
     },
     "execution_count": 7,
     "metadata": {},
     "output_type": "execute_result"
    }
   ],
   "source": [
    "duckdb.query(\"\"\"\n",
    "SELECT * FROM db.public.programs\n",
    "\"\"\")"
   ]
  },
  {
   "cell_type": "code",
   "execution_count": 8,
   "id": "d42e4ecc-03d5-4284-8dca-39a1928d830e",
   "metadata": {},
   "outputs": [
    {
     "data": {
      "text/plain": [
       "┌────────┬────────┬─────────┬───────┬─────────────┐\n",
       "│ run_id │  time  │ worker  │ core  │ utilization │\n",
       "│  uuid  │ double │ varchar │ int32 │   double    │\n",
       "├────────┴────────┴─────────┴───────┴─────────────┤\n",
       "│                     0 rows                      │\n",
       "└─────────────────────────────────────────────────┘"
      ]
     },
     "execution_count": 8,
     "metadata": {},
     "output_type": "execute_result"
    }
   ],
   "source": [
    "duckdb.query(\"\"\"\n",
    "SELECT * FROM db.public.cpu_utilization\n",
    "\"\"\")"
   ]
  },
  {
   "cell_type": "code",
   "execution_count": 9,
   "id": "c42c0c6c-19c2-46e0-aa15-e6b6a0c0774a",
   "metadata": {},
   "outputs": [
    {
     "data": {
      "text/plain": [
       "┌────────┬────────────┬────────┐\n",
       "│ run_id │ generation │  time  │\n",
       "│  uuid  │   int32    │ double │\n",
       "├────────┴────────────┴────────┤\n",
       "│            0 rows            │\n",
       "└──────────────────────────────┘"
      ]
     },
     "execution_count": 9,
     "metadata": {},
     "output_type": "execute_result"
    }
   ],
   "source": [
    "duckdb.query(\"\"\"\n",
    "SELECT * FROM db.public.time_monitor\n",
    "\"\"\")"
   ]
  },
  {
   "cell_type": "code",
   "execution_count": 10,
   "id": "035ae2d2-924e-4b97-abc7-2cda880e9496",
   "metadata": {},
   "outputs": [
    {
     "data": {
      "text/plain": [
       "┌────────┬────────┬─────────┬─────────┐\n",
       "│ run_id │  time  │ team_id │ profile │\n",
       "│  uuid  │ double │  uuid   │ int32[] │\n",
       "├────────┴────────┴─────────┴─────────┤\n",
       "│               0 rows                │\n",
       "└─────────────────────────────────────┘"
      ]
     },
     "execution_count": 10,
     "metadata": {},
     "output_type": "execute_result"
    }
   ],
   "source": [
    "duckdb.query(\"\"\"\n",
    "SELECT * FROM db.public.diversity_cache\n",
    "\"\"\")"
   ]
  },
  {
   "cell_type": "code",
   "execution_count": null,
   "id": "ce1020df-d4d5-4c2f-abd9-85b6392510bd",
   "metadata": {},
   "outputs": [],
   "source": []
  }
 ],
 "metadata": {
  "kernelspec": {
   "display_name": "distributed-tpg",
   "language": "python",
   "name": "distributed-tpg"
  },
  "language_info": {
   "codemirror_mode": {
    "name": "ipython",
    "version": 3
   },
   "file_extension": ".py",
   "mimetype": "text/x-python",
   "name": "python",
   "nbconvert_exporter": "python",
   "pygments_lexer": "ipython3",
   "version": "3.11.9"
  }
 },
 "nbformat": 4,
 "nbformat_minor": 5
}
