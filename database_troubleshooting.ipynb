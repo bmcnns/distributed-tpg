{
 "cells": [
  {
   "cell_type": "code",
   "execution_count": 1,
   "id": "8b983b2f-f126-4fb5-bc00-f907cee2e4ce",
   "metadata": {},
   "outputs": [],
   "source": [
    "from db.database import Database\n",
    "from parameters import Parameters\n",
    "\n",
    "Database.connect(\n",
    "    user=\"postgres\",\n",
    "    password=\"template!PWD\",\n",
    "    host=Parameters.DATABASE_IP,\n",
    "    port=5432,\n",
    "    database=\"postgres\",\n",
    ")"
   ]
  },
  {
   "cell_type": "code",
   "execution_count": 2,
   "id": "b32880c0-96b9-459f-ae3c-9f1b0283bbcf",
   "metadata": {},
   "outputs": [],
   "source": [
    "import duckdb"
   ]
  },
  {
   "cell_type": "code",
   "execution_count": 3,
   "id": "731a9c65-c162-454d-bf4f-8da3fbf3e2eb",
   "metadata": {},
   "outputs": [
    {
     "data": {
      "text/plain": [
       "┌──────────────────────────────────────┬──────────────────────────────────────┐\n",
       "│                run_id                │                config                │\n",
       "│                 uuid                 │               varchar                │\n",
       "├──────────────────────────────────────┼──────────────────────────────────────┤\n",
       "│ a62e4b47-145d-4425-bd02-704fd0f9399f │ [(\"desktop\", 180), (\"macbook\", 180)] │\n",
       "│ c9f4f100-1190-401b-92e3-c809e78f4426 │ [(\"desktop\", 180), (\"macbook\", 180)] │\n",
       "│ 8b57315a-8085-4b24-96e7-cbfb6f2d59b3 │ [(\"desktop\", 180), (\"macbook\", 180)] │\n",
       "│ 5723f9cc-8196-4e97-8783-4687c8d9764c │ [(\"desktop\", 180), (\"macbook\", 180)] │\n",
       "│ 5e30571f-866f-4323-b487-e9b2b911d60d │ [(\"desktop\", 180), (\"macbook\", 180)] │\n",
       "│ 6cdcf6f7-bf03-46e4-90d8-70930435018e │ [(\"desktop\", 180), (\"macbook\", 180)] │\n",
       "└──────────────────────────────────────┴──────────────────────────────────────┘"
      ]
     },
     "execution_count": 3,
     "metadata": {},
     "output_type": "execute_result"
    }
   ],
   "source": [
    "duckdb.query(\"\"\"\n",
    "SELECT * FROM db.public.compute_configs\n",
    "\"\"\")"
   ]
  },
  {
   "cell_type": "code",
   "execution_count": 4,
   "id": "b0fb70e8-7c55-49c3-9f88-f3443e5cf083",
   "metadata": {},
   "outputs": [
    {
     "data": {
      "text/plain": [
       "┌─────────────────┐\n",
       "│ max(generation) │\n",
       "│      int32      │\n",
       "├─────────────────┤\n",
       "│               2 │\n",
       "└─────────────────┘"
      ]
     },
     "execution_count": 4,
     "metadata": {},
     "output_type": "execute_result"
    }
   ],
   "source": [
    "duckdb.query(\"\"\"\n",
    "SELECT MAX(generation) FROM db.public.training\n",
    "\"\"\")"
   ]
  },
  {
   "cell_type": "code",
   "execution_count": 22,
   "id": "3e1b9d0a-cdd0-421f-8637-cceafdb9dec6",
   "metadata": {},
   "outputs": [
    {
     "data": {
      "text/plain": [
       "┌──────────────────────┬────────────┬──────────────────────┬─────────────┬───┬───────────┬────────────────────┬────────┐\n",
       "│        run_id        │ generation │       team_id        │ is_finished │ … │ time_step │        time        │ action │\n",
       "│         uuid         │   int32    │         uuid         │   boolean   │   │   int32   │       double       │ int32  │\n",
       "├──────────────────────┼────────────┼──────────────────────┼─────────────┼───┼───────────┼────────────────────┼────────┤\n",
       "│ 6cdcf6f7-bf03-46e4…  │          1 │ 4bdaaf8c-8e6d-4a82…  │ false       │ … │         1 │ 1723170409.3019652 │      1 │\n",
       "│ 6cdcf6f7-bf03-46e4…  │          1 │ 4bdaaf8c-8e6d-4a82…  │ false       │ … │         2 │  1723170409.302073 │      1 │\n",
       "│ 6cdcf6f7-bf03-46e4…  │          1 │ 4bdaaf8c-8e6d-4a82…  │ false       │ … │         3 │ 1723170409.3021722 │      1 │\n",
       "│ 6cdcf6f7-bf03-46e4…  │          1 │ 4bdaaf8c-8e6d-4a82…  │ false       │ … │         4 │ 1723170409.3022702 │      0 │\n",
       "│ 6cdcf6f7-bf03-46e4…  │          1 │ 4bdaaf8c-8e6d-4a82…  │ false       │ … │         5 │ 1723170409.3023624 │      1 │\n",
       "│ 6cdcf6f7-bf03-46e4…  │          1 │ 4bdaaf8c-8e6d-4a82…  │ false       │ … │         6 │ 1723170409.3024597 │      0 │\n",
       "│ 6cdcf6f7-bf03-46e4…  │          1 │ 4bdaaf8c-8e6d-4a82…  │ false       │ … │         7 │ 1723170409.3025515 │      0 │\n",
       "│ 6cdcf6f7-bf03-46e4…  │          1 │ 4bdaaf8c-8e6d-4a82…  │ false       │ … │         8 │ 1723170409.3026607 │      1 │\n",
       "│ 6cdcf6f7-bf03-46e4…  │          1 │ 4bdaaf8c-8e6d-4a82…  │ false       │ … │         9 │ 1723170409.3027568 │      0 │\n",
       "│ 6cdcf6f7-bf03-46e4…  │          1 │ 4bdaaf8c-8e6d-4a82…  │ false       │ … │        10 │ 1723170409.3028493 │      1 │\n",
       "│          ·           │          · │          ·           │   ·         │ · │         · │          ·         │      · │\n",
       "│          ·           │          · │          ·           │   ·         │ · │         · │          ·         │      · │\n",
       "│          ·           │          · │          ·           │   ·         │ · │         · │          ·         │      · │\n",
       "│ 6cdcf6f7-bf03-46e4…  │          2 │ c61357c3-8f36-4320…  │ false       │ … │        10 │ 1723170712.4383948 │      0 │\n",
       "│ 6cdcf6f7-bf03-46e4…  │          2 │ c61357c3-8f36-4320…  │ false       │ … │        11 │  1723170712.438449 │      1 │\n",
       "│ 6cdcf6f7-bf03-46e4…  │          2 │ c61357c3-8f36-4320…  │ false       │ … │        12 │ 1723170712.4384916 │      0 │\n",
       "│ 6cdcf6f7-bf03-46e4…  │          2 │ c61357c3-8f36-4320…  │ false       │ … │        13 │ 1723170712.4385345 │      1 │\n",
       "│ 6cdcf6f7-bf03-46e4…  │          2 │ c61357c3-8f36-4320…  │ false       │ … │        14 │ 1723170712.4385753 │      0 │\n",
       "│ 6cdcf6f7-bf03-46e4…  │          2 │ c61357c3-8f36-4320…  │ false       │ … │        15 │ 1723170712.4386158 │      1 │\n",
       "│ 6cdcf6f7-bf03-46e4…  │          2 │ c61357c3-8f36-4320…  │ false       │ … │        16 │ 1723170712.4386566 │      0 │\n",
       "│ 6cdcf6f7-bf03-46e4…  │          2 │ c61357c3-8f36-4320…  │ false       │ … │        17 │ 1723170712.4386969 │      1 │\n",
       "│ 6cdcf6f7-bf03-46e4…  │          2 │ c61357c3-8f36-4320…  │ false       │ … │        18 │ 1723170712.4387383 │      0 │\n",
       "│ 6cdcf6f7-bf03-46e4…  │          2 │ c61357c3-8f36-4320…  │ false       │ … │        19 │ 1723170712.4387794 │      1 │\n",
       "├──────────────────────┴────────────┴──────────────────────┴─────────────┴───┴───────────┴────────────────────┴────────┤\n",
       "│ ? rows (>9999 rows, 20 shown)                                                                    8 columns (7 shown) │\n",
       "└──────────────────────────────────────────────────────────────────────────────────────────────────────────────────────┘"
      ]
     },
     "execution_count": 22,
     "metadata": {},
     "output_type": "execute_result"
    }
   ],
   "source": [
    "duckdb.query(\"\"\"\n",
    "SELECT * FROM db.public.training\n",
    "\"\"\")"
   ]
  },
  {
   "cell_type": "code",
   "execution_count": 6,
   "id": "d91316f6-d63f-44df-8219-c62945263081",
   "metadata": {},
   "outputs": [
    {
     "data": {
      "text/plain": [
       "┌──────────────────────────────────────┬──────────────┐\n",
       "│               team_id                │ num_programs │\n",
       "│                 uuid                 │    int64     │\n",
       "├──────────────────────────────────────┼──────────────┤\n",
       "│ fce33465-e32e-4da8-97b1-b6f7ed205eab │            4 │\n",
       "│ 9d84abc4-a6bd-4774-9664-ea3ba0ef0626 │            4 │\n",
       "│ c69ff522-6572-49da-8d43-a725152ec39c │            5 │\n",
       "│ 69c80db6-ae8f-473b-ae42-0b24fc42cf71 │            3 │\n",
       "│ a40a829d-c532-48a5-9cd9-cc8a015d4a26 │            5 │\n",
       "│ bd0e1ff3-74e0-4ebf-b7c6-0ef500627c3e │            4 │\n",
       "│ a31beb1b-5937-49fc-8e52-942ff125b104 │            2 │\n",
       "│ 22562e4c-d097-4aee-9976-bb4c31059625 │            5 │\n",
       "│ ad2addc7-0fdb-4291-b2fb-7fb1d1d0965a │            5 │\n",
       "│ 97f96d1b-1cc0-4c43-9e01-df66ba632b9c │            4 │\n",
       "│                  ·                   │            · │\n",
       "│                  ·                   │            · │\n",
       "│                  ·                   │            · │\n",
       "│ 065c8242-bdfa-4a41-a426-4868f669771e │            3 │\n",
       "│ 0644b57c-d539-4e46-8e82-44abfc0519e6 │            2 │\n",
       "│ da1b1545-9c6a-420f-9aa1-26f3dd34aa56 │            2 │\n",
       "│ f25b9969-124e-40c3-a0c6-4da1f8145ada │            2 │\n",
       "│ 405bdadc-c82b-4114-b352-383584a68a41 │            1 │\n",
       "│ eb183370-a692-4c19-b9cb-49a079243536 │            2 │\n",
       "│ 9279532e-df40-44f7-840f-922d829ccf61 │            1 │\n",
       "│ 1cf1bb80-8cdf-4f7c-8b31-f45750fac8f8 │            2 │\n",
       "│ c2093327-e274-4c69-a703-e09a28924b16 │            1 │\n",
       "│ 429641a8-6933-490f-853b-03c464ad962a │            1 │\n",
       "├──────────────────────────────────────┴──────────────┤\n",
       "│ 1863 rows (20 shown)                      2 columns │\n",
       "└─────────────────────────────────────────────────────┘"
      ]
     },
     "execution_count": 6,
     "metadata": {},
     "output_type": "execute_result"
    }
   ],
   "source": [
    "duckdb.query(\"\"\"\n",
    "WITH team_program_mappings AS (\n",
    "SELECT teams.id AS team_id, programs.id AS program_id\n",
    "FROM db.public.programs\n",
    "JOIN db.public.teams ON programs.team_id = teams.id\n",
    ")\n",
    "\n",
    "SELECT team_id, COUNT(DISTINCT(program_id)) AS num_programs FROM team_program_mappings\n",
    "GROUP BY team_id\n",
    "\"\"\")"
   ]
  },
  {
   "cell_type": "code",
   "execution_count": 7,
   "id": "03cf23b3-afab-474e-bc63-1da6cb01422f",
   "metadata": {},
   "outputs": [
    {
     "data": {
      "text/plain": [
       "┌──────────────────────┬──────────────────────┬───────────────────────┬─────────┬──────────────────────────────────────┐\n",
       "│        run_id        │          id          │        team_id        │ action  │               pointer                │\n",
       "│         uuid         │         uuid         │         uuid          │ varchar │                 uuid                 │\n",
       "├──────────────────────┼──────────────────────┼───────────────────────┼─────────┼──────────────────────────────────────┤\n",
       "│ c9f4f100-1190-401b…  │ 848e98cf-5c1b-4431…  │ 22619275-bfcf-422b-…  │ LEFT    │ NULL                                 │\n",
       "│ a62e4b47-145d-4425…  │ efae37db-1fd9-493b…  │ 7f665bac-2c7e-426a-…  │ LEFT    │ NULL                                 │\n",
       "│ a62e4b47-145d-4425…  │ 55049c48-2b81-4db7…  │ c00b2970-4652-4584-…  │ LEFT    │ NULL                                 │\n",
       "│ a62e4b47-145d-4425…  │ 74749bcb-e859-4a8b…  │ b5800e32-16ee-4976-…  │ RIGHT   │ NULL                                 │\n",
       "│ a62e4b47-145d-4425…  │ f05746ec-2697-49cf…  │ a620dd5a-3bff-4e14-…  │ LEFT    │ NULL                                 │\n",
       "│ a62e4b47-145d-4425…  │ 118f2399-e13a-48c7…  │ a620dd5a-3bff-4e14-…  │ RIGHT   │ NULL                                 │\n",
       "│ a62e4b47-145d-4425…  │ b2a2dbb7-c2d2-46ba…  │ a620dd5a-3bff-4e14-…  │ LEFT    │ NULL                                 │\n",
       "│ a62e4b47-145d-4425…  │ 70c1be9b-95cd-4d67…  │ a620dd5a-3bff-4e14-…  │ RIGHT   │ NULL                                 │\n",
       "│ a62e4b47-145d-4425…  │ 2d77ea50-6180-4969…  │ a620dd5a-3bff-4e14-…  │ LEFT    │ NULL                                 │\n",
       "│ a62e4b47-145d-4425…  │ e3802181-1d4f-46fe…  │ a7c202b6-14e8-4d01-…  │ RIGHT   │ NULL                                 │\n",
       "│          ·           │          ·           │           ·           │  ·      │  ·                                   │\n",
       "│          ·           │          ·           │           ·           │  ·      │  ·                                   │\n",
       "│          ·           │          ·           │           ·           │  ·      │  ·                                   │\n",
       "│ 6cdcf6f7-bf03-46e4…  │ 96a34eff-1075-455b…  │ 3ade1edc-33e2-4145-…  │ LEFT    │ NULL                                 │\n",
       "│ 6cdcf6f7-bf03-46e4…  │ 25c50c13-912d-4c9c…  │ 42bfdbfb-d8a8-4840-…  │ NULL    │ 8f91fd84-a7be-4637-9bbc-227536205d3a │\n",
       "│ 6cdcf6f7-bf03-46e4…  │ fe330380-4d28-4e39…  │ 4ab4b5f7-f4cf-4b40-…  │ RIGHT   │ NULL                                 │\n",
       "│ 6cdcf6f7-bf03-46e4…  │ dd3a1958-40bd-43d3…  │ b042f342-4912-4ec8-…  │ RIGHT   │ NULL                                 │\n",
       "│ 6cdcf6f7-bf03-46e4…  │ 1da472fd-6ea0-442b…  │ c81efb99-a0d9-4325-…  │ LEFT    │ NULL                                 │\n",
       "│ 6cdcf6f7-bf03-46e4…  │ 8f09a070-6e60-4fa9…  │ 95c84972-49cd-4946-…  │ LEFT    │ NULL                                 │\n",
       "│ 6cdcf6f7-bf03-46e4…  │ 9b7c7ffe-8e73-45ee…  │ 698ba0ad-3aaa-4837-…  │ LEFT    │ NULL                                 │\n",
       "│ 6cdcf6f7-bf03-46e4…  │ 44e82f18-0756-4911…  │ 9e62ee83-45e9-409e-…  │ RIGHT   │ NULL                                 │\n",
       "│ 6cdcf6f7-bf03-46e4…  │ 154e0980-2f32-4cac…  │ 6d6b90ff-9f0b-4606-…  │ RIGHT   │ NULL                                 │\n",
       "│ 6cdcf6f7-bf03-46e4…  │ 605ad81c-f97b-4b0a…  │ 6d6b90ff-9f0b-4606-…  │ RIGHT   │ NULL                                 │\n",
       "├──────────────────────┴──────────────────────┴───────────────────────┴─────────┴──────────────────────────────────────┤\n",
       "│ 6049 rows (20 shown)                                                                                       5 columns │\n",
       "└──────────────────────────────────────────────────────────────────────────────────────────────────────────────────────┘"
      ]
     },
     "execution_count": 7,
     "metadata": {},
     "output_type": "execute_result"
    }
   ],
   "source": [
    "duckdb.query(\"\"\"\n",
    "SELECT * FROM db.public.programs\n",
    "\"\"\")"
   ]
  },
  {
   "cell_type": "code",
   "execution_count": 8,
   "id": "d42e4ecc-03d5-4284-8dca-39a1928d830e",
   "metadata": {},
   "outputs": [
    {
     "data": {
      "text/plain": [
       "┌──────────────────────────────────────┬────────────────────┬─────────┬───────┬─────────────┐\n",
       "│                run_id                │        time        │ worker  │ core  │ utilization │\n",
       "│                 uuid                 │       double       │ varchar │ int32 │   double    │\n",
       "├──────────────────────────────────────┼────────────────────┼─────────┼───────┼─────────────┤\n",
       "│ a62e4b47-145d-4425-bd02-704fd0f9399f │  1723168683.130417 │ desktop │     0 │         3.0 │\n",
       "│ a62e4b47-145d-4425-bd02-704fd0f9399f │  1723168683.130417 │ desktop │     1 │         8.3 │\n",
       "│ a62e4b47-145d-4425-bd02-704fd0f9399f │  1723168683.130417 │ desktop │     2 │         1.8 │\n",
       "│ a62e4b47-145d-4425-bd02-704fd0f9399f │  1723168683.130417 │ desktop │     3 │        20.5 │\n",
       "│ a62e4b47-145d-4425-bd02-704fd0f9399f │  1723168683.130417 │ desktop │     4 │         3.0 │\n",
       "│ a62e4b47-145d-4425-bd02-704fd0f9399f │  1723168683.130417 │ desktop │     5 │         1.2 │\n",
       "│ a62e4b47-145d-4425-bd02-704fd0f9399f │  1723168683.130417 │ desktop │     6 │         1.2 │\n",
       "│ a62e4b47-145d-4425-bd02-704fd0f9399f │  1723168683.130417 │ desktop │     7 │        21.7 │\n",
       "│ a62e4b47-145d-4425-bd02-704fd0f9399f │  1723168683.130417 │ desktop │     8 │         1.2 │\n",
       "│ a62e4b47-145d-4425-bd02-704fd0f9399f │  1723168683.130417 │ desktop │     9 │        50.0 │\n",
       "│                  ·                   │          ·         │    ·    │     · │          ·  │\n",
       "│                  ·                   │          ·         │    ·    │     · │          ·  │\n",
       "│                  ·                   │          ·         │    ·    │     · │          ·  │\n",
       "│ 6cdcf6f7-bf03-46e4-90d8-70930435018e │ 1723170717.2711568 │ desktop │     2 │         2.0 │\n",
       "│ 6cdcf6f7-bf03-46e4-90d8-70930435018e │ 1723170717.2711568 │ desktop │     3 │         8.6 │\n",
       "│ 6cdcf6f7-bf03-46e4-90d8-70930435018e │ 1723170717.2711568 │ desktop │     4 │         3.2 │\n",
       "│ 6cdcf6f7-bf03-46e4-90d8-70930435018e │ 1723170717.2711568 │ desktop │     5 │         1.4 │\n",
       "│ 6cdcf6f7-bf03-46e4-90d8-70930435018e │ 1723170717.2711568 │ desktop │     6 │         1.4 │\n",
       "│ 6cdcf6f7-bf03-46e4-90d8-70930435018e │ 1723170717.2711568 │ desktop │     7 │         7.0 │\n",
       "│ 6cdcf6f7-bf03-46e4-90d8-70930435018e │ 1723170717.2711568 │ desktop │     8 │         1.6 │\n",
       "│ 6cdcf6f7-bf03-46e4-90d8-70930435018e │ 1723170717.2711568 │ desktop │     9 │         9.5 │\n",
       "│ 6cdcf6f7-bf03-46e4-90d8-70930435018e │ 1723170717.2711568 │ desktop │    10 │         2.6 │\n",
       "│ 6cdcf6f7-bf03-46e4-90d8-70930435018e │ 1723170717.2711568 │ desktop │    11 │         1.4 │\n",
       "├──────────────────────────────────────┴────────────────────┴─────────┴───────┴─────────────┤\n",
       "│ 1920 rows (20 shown)                                                            5 columns │\n",
       "└───────────────────────────────────────────────────────────────────────────────────────────┘"
      ]
     },
     "execution_count": 8,
     "metadata": {},
     "output_type": "execute_result"
    }
   ],
   "source": [
    "duckdb.query(\"\"\"\n",
    "SELECT * FROM db.public.cpu_utilization\n",
    "\"\"\")"
   ]
  },
  {
   "cell_type": "code",
   "execution_count": 9,
   "id": "c42c0c6c-19c2-46e0-aa15-e6b6a0c0774a",
   "metadata": {},
   "outputs": [
    {
     "data": {
      "text/plain": [
       "┌──────────────────────────────────────┬────────────┬────────────────────┐\n",
       "│                run_id                │ generation │        time        │\n",
       "│                 uuid                 │   int32    │       double       │\n",
       "├──────────────────────────────────────┼────────────┼────────────────────┤\n",
       "│ a62e4b47-145d-4425-bd02-704fd0f9399f │          1 │ 1723168866.2398949 │\n",
       "│ a62e4b47-145d-4425-bd02-704fd0f9399f │          2 │   1723169060.04346 │\n",
       "│ 6cdcf6f7-bf03-46e4-90d8-70930435018e │          1 │  1723170680.934576 │\n",
       "└──────────────────────────────────────┴────────────┴────────────────────┘"
      ]
     },
     "execution_count": 9,
     "metadata": {},
     "output_type": "execute_result"
    }
   ],
   "source": [
    "duckdb.query(\"\"\"\n",
    "SELECT * FROM db.public.time_monitor\n",
    "\"\"\")"
   ]
  },
  {
   "cell_type": "code",
   "execution_count": 10,
   "id": "035ae2d2-924e-4b97-abc7-2cda880e9496",
   "metadata": {},
   "outputs": [
    {
     "data": {
      "text/plain": [
       "┌──────────────────────────────────────┬────────────────────┬──────────────────────────────────────┬─────────┐\n",
       "│                run_id                │        time        │               team_id                │ profile │\n",
       "│                 uuid                 │       double       │                 uuid                 │ int32[] │\n",
       "├──────────────────────────────────────┼────────────────────┼──────────────────────────────────────┼─────────┤\n",
       "│ a62e4b47-145d-4425-bd02-704fd0f9399f │  1723168863.396085 │ 6140c141-f51a-4d44-b071-68ac7979d833 │ []      │\n",
       "│ a62e4b47-145d-4425-bd02-704fd0f9399f │ 1723168863.4134958 │ bd0c7b99-45a4-40c4-a2e9-c99c5e5ae573 │ []      │\n",
       "│ a62e4b47-145d-4425-bd02-704fd0f9399f │ 1723168863.4314578 │ 8cef3454-0d5b-40bd-b6a1-eaec4a4fbba9 │ []      │\n",
       "│ a62e4b47-145d-4425-bd02-704fd0f9399f │ 1723168863.4445195 │ d519dea5-00f6-4715-99b9-f82aae4f1829 │ []      │\n",
       "│ a62e4b47-145d-4425-bd02-704fd0f9399f │ 1723168863.4651804 │ c384a762-865e-4f2c-b82b-20e6a14f30c9 │ []      │\n",
       "│ a62e4b47-145d-4425-bd02-704fd0f9399f │ 1723168863.4813378 │ 97970151-7d73-4a4f-aa3a-864fa7b663f1 │ []      │\n",
       "│ a62e4b47-145d-4425-bd02-704fd0f9399f │ 1723168863.4898868 │ a1bf9d64-a701-4e0d-a8f5-691587cb75fb │ []      │\n",
       "│ a62e4b47-145d-4425-bd02-704fd0f9399f │  1723168863.500682 │ 4da02c85-0ddd-4c00-9743-e402442d54e6 │ []      │\n",
       "│ a62e4b47-145d-4425-bd02-704fd0f9399f │ 1723168863.5156171 │ 6c1c9960-7350-4a87-8952-447f3dd1dc62 │ []      │\n",
       "│ a62e4b47-145d-4425-bd02-704fd0f9399f │ 1723168863.5321968 │ 0d7d7031-3fcd-4204-b8fc-0c2867f9d9dd │ []      │\n",
       "│                  ·                   │          ·         │                  ·                   │ ·       │\n",
       "│                  ·                   │          ·         │                  ·                   │ ·       │\n",
       "│                  ·                   │          ·         │                  ·                   │ ·       │\n",
       "│ 6cdcf6f7-bf03-46e4-90d8-70930435018e │ 1723170680.7253575 │ b042f342-4912-4ec8-8ad1-02fe03cb8261 │ []      │\n",
       "│ 6cdcf6f7-bf03-46e4-90d8-70930435018e │ 1723170680.7414348 │ c81efb99-a0d9-4325-bb11-36a52271122f │ []      │\n",
       "│ 6cdcf6f7-bf03-46e4-90d8-70930435018e │ 1723170680.7549248 │ 497dd517-32bf-49ee-9acd-aa26a365d6ad │ []      │\n",
       "│ 6cdcf6f7-bf03-46e4-90d8-70930435018e │  1723170680.785216 │ 95c84972-49cd-4946-b376-c45d8d565f73 │ []      │\n",
       "│ 6cdcf6f7-bf03-46e4-90d8-70930435018e │ 1723170680.8098755 │ 698ba0ad-3aaa-4837-9ab5-91d4c8e6229e │ []      │\n",
       "│ 6cdcf6f7-bf03-46e4-90d8-70930435018e │  1723170680.822671 │ 49262106-76c7-42aa-a5c4-4ab8c48c47b0 │ []      │\n",
       "│ 6cdcf6f7-bf03-46e4-90d8-70930435018e │ 1723170680.8480887 │ ac207675-b81e-4e68-be2e-d97976494318 │ []      │\n",
       "│ 6cdcf6f7-bf03-46e4-90d8-70930435018e │ 1723170680.8689785 │ 9e62ee83-45e9-409e-91c1-b5e207345cd4 │ []      │\n",
       "│ 6cdcf6f7-bf03-46e4-90d8-70930435018e │  1723170680.883075 │ 6ea1a317-aca2-49cd-b618-a4b90980f665 │ []      │\n",
       "│ 6cdcf6f7-bf03-46e4-90d8-70930435018e │ 1723170680.9086487 │ 6d6b90ff-9f0b-4606-a479-24ad3e0b7150 │ []      │\n",
       "├──────────────────────────────────────┴────────────────────┴──────────────────────────────────────┴─────────┤\n",
       "│ 509 rows (20 shown)                                                                              4 columns │\n",
       "└────────────────────────────────────────────────────────────────────────────────────────────────────────────┘"
      ]
     },
     "execution_count": 10,
     "metadata": {},
     "output_type": "execute_result"
    }
   ],
   "source": [
    "duckdb.query(\"\"\"\n",
    "SELECT * FROM db.public.diversity_cache\n",
    "\"\"\")"
   ]
  },
  {
   "cell_type": "code",
   "execution_count": null,
   "id": "ce1020df-d4d5-4c2f-abd9-85b6392510bd",
   "metadata": {},
   "outputs": [],
   "source": []
  }
 ],
 "metadata": {
  "kernelspec": {
   "display_name": "distributed-tpg",
   "language": "python",
   "name": "distributed-tpg"
  },
  "language_info": {
   "codemirror_mode": {
    "name": "ipython",
    "version": 3
   },
   "file_extension": ".py",
   "mimetype": "text/x-python",
   "name": "python",
   "nbconvert_exporter": "python",
   "pygments_lexer": "ipython3",
   "version": "3.11.9"
  }
 },
 "nbformat": 4,
 "nbformat_minor": 5
}
